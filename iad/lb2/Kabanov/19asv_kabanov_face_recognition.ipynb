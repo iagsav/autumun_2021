{
  "nbformat": 4,
  "nbformat_minor": 0,
  "metadata": {
    "colab": {
      "name": "19asv_kabanov_face_recognition",
      "provenance": [],
      "collapsed_sections": []
    },
    "kernelspec": {
      "name": "python3",
      "display_name": "Python 3"
    },
    "language_info": {
      "name": "python"
    },
    "accelerator": "GPU"
  },
  "cells": [
    {
      "cell_type": "code",
      "metadata": {
        "colab": {
          "base_uri": "https://localhost:8080/"
        },
        "id": "u2ktOUPRidNK",
        "outputId": "3e955828-69b6-444f-d0fc-638e21c3d4c8"
      },
      "source": [
        "pip uninstall dlib "
      ],
      "execution_count": null,
      "outputs": [
        {
          "output_type": "stream",
          "name": "stdout",
          "text": [
            "Found existing installation: dlib 19.18.0\n",
            "Uninstalling dlib-19.18.0:\n",
            "  Would remove:\n",
            "    /usr/local/lib/python3.7/dist-packages/dlib-19.18.0.dist-info/*\n",
            "    /usr/local/lib/python3.7/dist-packages/dlib.cpython-37m-x86_64-linux-gnu.so\n",
            "Proceed (y/n)? y\n",
            "y\n",
            "  Successfully uninstalled dlib-19.18.0\n"
          ]
        }
      ]
    },
    {
      "cell_type": "code",
      "metadata": {
        "colab": {
          "base_uri": "https://localhost:8080/"
        },
        "id": "7a07zT2Te8cn",
        "outputId": "c17935fc-6e7d-4927-964c-64f3921403fd"
      },
      "source": [
        "!git clone https://github.com/davisking/dlib.git"
      ],
      "execution_count": null,
      "outputs": [
        {
          "output_type": "stream",
          "name": "stdout",
          "text": [
            "Cloning into 'dlib'...\n",
            "remote: Enumerating objects: 49326, done.\u001b[K\n",
            "remote: Counting objects: 100% (146/146), done.\u001b[K\n",
            "remote: Compressing objects: 100% (97/97), done.\u001b[K\n",
            "remote: Total 49326 (delta 62), reused 86 (delta 49), pack-reused 49180\u001b[K\n",
            "Receiving objects: 100% (49326/49326), 24.52 MiB | 20.75 MiB/s, done.\n",
            "Resolving deltas: 100% (34674/34674), done.\n"
          ]
        }
      ]
    },
    {
      "cell_type": "code",
      "metadata": {
        "colab": {
          "base_uri": "https://localhost:8080/"
        },
        "id": "Fqbpou5Gfv9-",
        "outputId": "4f874e50-af32-436a-9619-e33467ebfe95"
      },
      "source": [
        "cd dlib"
      ],
      "execution_count": null,
      "outputs": [
        {
          "output_type": "stream",
          "name": "stdout",
          "text": [
            "/content/dlib\n"
          ]
        }
      ]
    },
    {
      "cell_type": "code",
      "metadata": {
        "id": "dzhNW-aahmmj"
      },
      "source": [
        "!mkdir build"
      ],
      "execution_count": null,
      "outputs": []
    },
    {
      "cell_type": "code",
      "metadata": {
        "id": "uAKYzTN-hoPF",
        "colab": {
          "base_uri": "https://localhost:8080/"
        },
        "outputId": "496fee71-b549-4a73-bc78-55cac8818e46"
      },
      "source": [
        "cd build"
      ],
      "execution_count": null,
      "outputs": [
        {
          "output_type": "stream",
          "name": "stdout",
          "text": [
            "/content/dlib/build\n"
          ]
        }
      ]
    },
    {
      "cell_type": "code",
      "metadata": {
        "id": "ud_fFMZrhqVJ"
      },
      "source": [
        "!cmake .. -DDLIB_USE_CUDA=0 -DUSE_AVX_INSTRUCTIONS=1"
      ],
      "execution_count": null,
      "outputs": []
    },
    {
      "cell_type": "code",
      "metadata": {
        "id": "OlARxu3Ah5Hd"
      },
      "source": [
        "!cmake --build ."
      ],
      "execution_count": null,
      "outputs": []
    },
    {
      "cell_type": "code",
      "metadata": {
        "colab": {
          "base_uri": "https://localhost:8080/"
        },
        "id": "TTV32fZQh9BY",
        "outputId": "74a8c4f0-7b0b-46f1-c9b6-e00efbec5926"
      },
      "source": [
        "cd .."
      ],
      "execution_count": null,
      "outputs": [
        {
          "output_type": "stream",
          "name": "stdout",
          "text": [
            "/content/dlib\n"
          ]
        }
      ]
    },
    {
      "cell_type": "code",
      "metadata": {
        "colab": {
          "base_uri": "https://localhost:8080/"
        },
        "id": "upTmGeLLm_6k",
        "outputId": "fa504b8a-5e57-48a0-cfd1-1a247fe2d37a"
      },
      "source": [
        "!ls"
      ],
      "execution_count": null,
      "outputs": [
        {
          "output_type": "stream",
          "name": "stdout",
          "text": [
            "sample_data\n"
          ]
        }
      ]
    },
    {
      "cell_type": "code",
      "metadata": {
        "id": "9XTZ6cp4h-9M"
      },
      "source": [
        "!python setup.py install --no DLIB_USE_CUDA"
      ],
      "execution_count": null,
      "outputs": []
    },
    {
      "cell_type": "markdown",
      "metadata": {
        "id": "z3M-vWqSAsRI"
      },
      "source": [
        "**Теперь нужно перезапустить среду выполнения!!!**"
      ]
    },
    {
      "cell_type": "code",
      "metadata": {
        "id": "G3gu-dHNv77j",
        "colab": {
          "base_uri": "https://localhost:8080/"
        },
        "outputId": "401c016c-1bf0-46b1-c3e5-83bd5ba30779"
      },
      "source": [
        "from google.colab import drive\n",
        "drive.mount('/content/drive')"
      ],
      "execution_count": null,
      "outputs": [
        {
          "output_type": "stream",
          "name": "stdout",
          "text": [
            "Mounted at /content/drive\n"
          ]
        }
      ]
    },
    {
      "cell_type": "code",
      "metadata": {
        "id": "Sv86i8QBiA94"
      },
      "source": [
        "import dlib\n",
        "from skimage import io\n",
        "from scipy.spatial import distance"
      ],
      "execution_count": null,
      "outputs": []
    },
    {
      "cell_type": "code",
      "metadata": {
        "colab": {
          "base_uri": "https://localhost:8080/"
        },
        "id": "dGieCsFYrYZF",
        "outputId": "3790a48c-1d13-456d-d8a6-c6099f134b8d"
      },
      "source": [
        "dlib.DLIB_USE_CUDA"
      ],
      "execution_count": null,
      "outputs": [
        {
          "output_type": "execute_result",
          "data": {
            "text/plain": [
              "True"
            ]
          },
          "metadata": {},
          "execution_count": 35
        }
      ]
    },
    {
      "cell_type": "code",
      "metadata": {
        "id": "uKs65iEnc2U0"
      },
      "source": [
        "sp = dlib.shape_predictor('/content/drive/My Drive/shape_predictor_68_face_landmarks.dat')\n",
        "facerec = dlib.face_recognition_model_v1('/content/drive/My Drive/dlib_face_recognition_resnet_model_v1.dat')\n",
        "detector = dlib.get_frontal_face_detector()"
      ],
      "execution_count": null,
      "outputs": []
    },
    {
      "cell_type": "code",
      "metadata": {
        "colab": {
          "base_uri": "https://localhost:8080/",
          "height": 36
        },
        "id": "9otnwKjbykJP",
        "outputId": "ee489451-9298-4ad8-e3f5-f41ec80a6d52"
      },
      "source": [
        "dlib.__version__"
      ],
      "execution_count": null,
      "outputs": [
        {
          "output_type": "execute_result",
          "data": {
            "application/vnd.google.colaboratory.intrinsic+json": {
              "type": "string"
            },
            "text/plain": [
              "'19.18.0'"
            ]
          },
          "metadata": {},
          "execution_count": 37
        }
      ]
    },
    {
      "cell_type": "code",
      "metadata": {
        "id": "0Oory1GaeW_j"
      },
      "source": [
        "img     = io.imread('drive/My Drive/UNIBS/ColabN/1.jpg')\n",
        "img_src = io.imread('drive/My Drive/UNIBS/ColabN/1.jpg')\n"
      ],
      "execution_count": null,
      "outputs": []
    },
    {
      "cell_type": "code",
      "metadata": {
        "colab": {
          "base_uri": "https://localhost:8080/",
          "height": 41
        },
        "id": "6Fg8tpZnfQg1",
        "outputId": "ac618860-c407-4786-81a0-5c5a0504695f"
      },
      "source": [
        "from IPython.display import Image\n",
        "Image('content/drive/My Drive/UNIBS/ColabN/mifase1.jpg')"
      ],
      "execution_count": null,
      "outputs": [
        {
          "output_type": "execute_result",
          "data": {
            "image/png": "content/drive/My Drive/UNIBS/ColabN/mifase1.jpg",
            "text/plain": [
              "<IPython.core.display.Image object>"
            ]
          },
          "metadata": {},
          "execution_count": 1
        }
      ]
    },
    {
      "cell_type": "code",
      "metadata": {
        "id": "yJVWYuY6fgcb"
      },
      "source": [
        "dets = detector(img_src, 1)"
      ],
      "execution_count": null,
      "outputs": []
    },
    {
      "cell_type": "code",
      "metadata": {
        "colab": {
          "base_uri": "https://localhost:8080/"
        },
        "id": "RrRK_LPAfk_7",
        "outputId": "3e4e48da-78cd-4790-9c41-7edb06782bf3"
      },
      "source": [
        "dets[0].left()"
      ],
      "execution_count": null,
      "outputs": [
        {
          "output_type": "execute_result",
          "data": {
            "text/plain": [
              "98"
            ]
          },
          "metadata": {},
          "execution_count": 41
        }
      ]
    },
    {
      "cell_type": "code",
      "metadata": {
        "colab": {
          "base_uri": "https://localhost:8080/"
        },
        "id": "LA4V4jX3fy6U",
        "outputId": "0f9901c4-2191-4bdb-87d3-08ab80d06cec"
      },
      "source": [
        "for k, d in enumerate(dets):\n",
        "    print(\"Detection {}: Left: {} Top: {} Right: {} Bottom: {}\".format(\n",
        "        k, d.left(), d.top(), d.right(), d.bottom()))\n",
        "    \n",
        "shape = sp(img_src, d)    "
      ],
      "execution_count": null,
      "outputs": [
        {
          "output_type": "stream",
          "name": "stdout",
          "text": [
            "Detection 0: Left: 98 Top: 241 Right: 419 Bottom: 562\n"
          ]
        }
      ]
    },
    {
      "cell_type": "code",
      "metadata": {
        "colab": {
          "base_uri": "https://localhost:8080/"
        },
        "id": "NuYRp1R5pOpy",
        "outputId": "d62eface-5882-4e08-8746-1903985f307b"
      },
      "source": [
        "shape"
      ],
      "execution_count": null,
      "outputs": [
        {
          "output_type": "execute_result",
          "data": {
            "text/plain": [
              "<dlib.full_object_detection at 0x7fe8dde015b0>"
            ]
          },
          "metadata": {},
          "execution_count": 43
        }
      ]
    },
    {
      "cell_type": "code",
      "metadata": {
        "id": "VzWY66Pgf0Ej"
      },
      "source": [
        "import cv2"
      ],
      "execution_count": null,
      "outputs": []
    },
    {
      "cell_type": "code",
      "metadata": {
        "id": "hHZkkLqWokoN"
      },
      "source": [
        "import numpy as np\n",
        "def shape_to_np(shape, dtype=\"int\"):\n",
        "\t# initialize the list of (x, y)-coordinates\n",
        "\tcoords = np.zeros((68, 2), dtype=dtype)\n",
        "\t# loop over the 68 facial landmarks and convert them\n",
        "\t# to a 2-tuple of (x, y)-coordinates\n",
        "\tfor i in range(0, 68):\n",
        "\t\tcoords[i] = (shape.part(i).x, shape.part(i).y)\n",
        "\t# return the list of (x, y)-coordinates\n",
        "\treturn coords"
      ],
      "execution_count": null,
      "outputs": []
    },
    {
      "cell_type": "code",
      "metadata": {
        "id": "1a1MWlLSgWDC"
      },
      "source": [
        "from google.colab.patches import cv2_imshow\n",
        "img = cv2.cvtColor(img, cv2.COLOR_RGB2BGR)\n",
        "cv2.rectangle(img, (dets[0].left(), dets[0].top()), (dets[0].right(), dets[0].bottom()), (0, 255, 0, 255), 2)\n",
        "\n",
        "shapex = shape_to_np(shape)\n",
        "\n",
        "for (x, y) in shapex:\n",
        "\t\tcv2.circle(img, (x, y), 3, (0, 0, 255), -1)\n",
        "\n",
        "cv2_imshow(img)"
      ],
      "execution_count": null,
      "outputs": []
    },
    {
      "cell_type": "code",
      "metadata": {
        "id": "2h_gf3N1hgl5"
      },
      "source": [
        "face_descriptor1 = facerec.compute_face_descriptor(img_src, shape)"
      ],
      "execution_count": null,
      "outputs": []
    },
    {
      "cell_type": "code",
      "metadata": {
        "colab": {
          "base_uri": "https://localhost:8080/"
        },
        "id": "JXsyZDx3hkQQ",
        "outputId": "708c7097-4afa-437b-8dd7-9f9369fa7846"
      },
      "source": [
        "face_descriptor1"
      ],
      "execution_count": null,
      "outputs": [
        {
          "output_type": "execute_result",
          "data": {
            "text/plain": [
              "dlib.vector([-0.137599, 0.0523217, -0.00164473, -0.0286054, -0.0796927, 0.0965858, 0.00579893, -0.171461, 0.174429, -0.112022, 0.13266, 0.00815626, -0.283626, 0.0406432, -0.00785888, 0.00978656, -0.0983332, -0.16737, -0.127409, -0.103511, -0.0125575, -0.0517367, 0.0111369, 0.043216, -0.228724, -0.145779, -0.0789268, -0.0739404, 0.0963279, -0.128828, -0.00975357, 0.0453712, -0.20239, -0.0273813, -0.0113784, 0.0372499, -0.0743942, -0.0588283, 0.289427, -0.0456841, -0.131688, -0.0418727, 0.0707912, 0.251246, 0.184577, -0.00589351, -0.0257415, -0.01401, 0.143273, -0.392291, 0.0514038, 0.165558, 0.15152, 0.108585, 0.0676175, -0.24675, 0.0490598, 0.106909, -0.0956791, 0.207178, 0.0625697, -0.0823306, -0.0391947, -0.0158175, 0.17763, 0.0848329, -0.126907, -0.132448, 0.112399, -0.152625, -0.00946432, 0.20606, -0.118074, -0.233696, -0.25674, 0.0207574, 0.449437, 0.201667, -0.148498, -0.0249075, -0.0834151, -0.0168903, 0.0466451, 0.000933561, -0.118001, -0.101473, -0.0652419, 0.0581003, 0.293527, 0.0380785, -0.104971, 0.196989, 0.0727044, 0.0205144, -0.0247776, 0.0896616, -0.0358166, -0.0904288, -0.102499, 0.0642742, 0.0135623, -0.0796278, 0.00408178, 0.150671, -0.200649, 0.225994, -0.00426664, -0.0239383, -0.0400782, -0.00826738, -0.156497, 0.0913271, 0.189275, -0.368846, 0.16767, 0.223159, 0.0455584, 0.0611471, 0.0296002, -0.0113191, 0.0617195, 0.0938905, -0.144057, -0.148504, 0.0268519, -0.128587, 0.00862289, 0.0362473])"
            ]
          },
          "metadata": {},
          "execution_count": 48
        }
      ]
    },
    {
      "cell_type": "code",
      "metadata": {
        "id": "nZ1CQkPihqBh"
      },
      "source": [
        "img_2     = io.imread('drive/My Drive/UNIBS/ColabN/mifase2.jpg')\n",
        "img_src_2 = io.imread('drive/My Drive/UNIBS/ColabN/mifase2.jpg')"
      ],
      "execution_count": null,
      "outputs": []
    },
    {
      "cell_type": "code",
      "metadata": {
        "id": "-Yjul4Yfhwdo"
      },
      "source": [
        "from IPython.display import Image\n",
        "Image('/content/drive/My Drive/UNIBS/ColabN/mifase2.jpg')"
      ],
      "execution_count": null,
      "outputs": []
    },
    {
      "cell_type": "code",
      "metadata": {
        "id": "tGnJyNQTh1Ye"
      },
      "source": [
        "dets_2 = detector(img_src_2, 1)"
      ],
      "execution_count": null,
      "outputs": []
    },
    {
      "cell_type": "code",
      "metadata": {
        "colab": {
          "base_uri": "https://localhost:8080/"
        },
        "id": "QxOJ2kl6h8vm",
        "outputId": "b6b79df6-747c-4424-838c-dcd9c4510ef5"
      },
      "source": [
        "for k, d in enumerate(dets_2):\n",
        "    print(\"Detection {}: Left: {} Top: {} Right: {} Bottom: {}\".format(\n",
        "        k, d.left(), d.top(), d.right(), d.bottom()))\n",
        "    \n",
        "shape_2 = sp(img_src_2, d)  "
      ],
      "execution_count": null,
      "outputs": [
        {
          "output_type": "stream",
          "name": "stdout",
          "text": [
            "Detection 0: Left: 55 Top: 80 Right: 163 Bottom: 187\n"
          ]
        }
      ]
    },
    {
      "cell_type": "code",
      "metadata": {
        "id": "zJhwgMeEiDED"
      },
      "source": [
        "cv2.rectangle(img_2, (dets_2[0].left(), dets_2[0].top()), (dets_2[0].right(), dets_2[0].bottom()), (0, 255, 0, 255), 2)\n",
        "img_2 = cv2.cvtColor(img_2, cv2.COLOR_RGB2BGR)\n",
        "\n",
        "cv2_imshow(img_2)"
      ],
      "execution_count": null,
      "outputs": []
    },
    {
      "cell_type": "code",
      "metadata": {
        "id": "bQ9JmvLkiPyz"
      },
      "source": [
        "face_descriptor2 = facerec.compute_face_descriptor(img_src_2, shape_2)"
      ],
      "execution_count": null,
      "outputs": []
    },
    {
      "cell_type": "code",
      "metadata": {
        "colab": {
          "base_uri": "https://localhost:8080/"
        },
        "id": "WtepDivtiUTi",
        "outputId": "5a214a06-a6bd-4212-a3da-dc8266e5d027"
      },
      "source": [
        "a = distance.euclidean(face_descriptor1, face_descriptor2)\n",
        "print(a)"
      ],
      "execution_count": null,
      "outputs": [
        {
          "output_type": "stream",
          "name": "stdout",
          "text": [
            "0.45134783835065645\n"
          ]
        }
      ]
    },
    {
      "cell_type": "code",
      "metadata": {
        "id": "GtVn7ywAifcc"
      },
      "source": [
        "img_b     = io.imread('/content/drive/My Drive/UNIBS/ColabN/willem_dafoe.jpg')\n",
        "img_src_b = io.imread('/content/drive/My Drive/UNIBS/ColabN/willem_dafoe.jpg')"
      ],
      "execution_count": null,
      "outputs": []
    },
    {
      "cell_type": "code",
      "metadata": {
        "id": "P0ogX3U0ipQM"
      },
      "source": [
        "from IPython.display import Image\n",
        "Image('/content/drive/My Drive/UNIBS/ColabN/willem_dafoe.jpg')"
      ],
      "execution_count": null,
      "outputs": []
    },
    {
      "cell_type": "code",
      "metadata": {
        "id": "mblOsxsYiuLl"
      },
      "source": [
        "dets_b = detector(img_src_b, 1)"
      ],
      "execution_count": null,
      "outputs": []
    },
    {
      "cell_type": "code",
      "metadata": {
        "colab": {
          "base_uri": "https://localhost:8080/"
        },
        "id": "icsD-_xEjJ6y",
        "outputId": "7237bdb1-4ba2-4c72-8b9b-0ccd95e582b1"
      },
      "source": [
        "for k, d in enumerate(dets_b):\n",
        "    print(\"Detection {}: Left: {} Top: {} Right: {} Bottom: {}\".format(\n",
        "        k, d.left(), d.top(), d.right(), d.bottom()))\n",
        "    \n",
        "shape_b = sp(img_src_b, d)  "
      ],
      "execution_count": null,
      "outputs": [
        {
          "output_type": "stream",
          "name": "stdout",
          "text": [
            "Detection 0: Left: 142 Top: 400 Right: 605 Bottom: 862\n"
          ]
        }
      ]
    },
    {
      "cell_type": "code",
      "metadata": {
        "id": "Nlv1z5hpjOy-"
      },
      "source": [
        "cv2.rectangle(img_b, (dets_b[0].left(), dets_b[0].top()), (dets_b[0].right(), dets_b[0].bottom()), (0, 255, 0, 255), 2)\n",
        "img_b = cv2.cvtColor(img_b, cv2.COLOR_RGB2BGR)\n",
        "cv2_imshow(img_b)"
      ],
      "execution_count": null,
      "outputs": []
    },
    {
      "cell_type": "code",
      "metadata": {
        "id": "TDLwRUE1jbYg"
      },
      "source": [
        "face_descriptorb = facerec.compute_face_descriptor(img_src_b, shape_b)"
      ],
      "execution_count": null,
      "outputs": []
    },
    {
      "cell_type": "code",
      "metadata": {
        "colab": {
          "base_uri": "https://localhost:8080/"
        },
        "id": "X-M3r4XAjd0r",
        "outputId": "2d54650b-a121-4185-e64b-ce3916ddfecf"
      },
      "source": [
        "a = distance.euclidean(face_descriptor1, face_descriptorb)\n",
        "print(a)"
      ],
      "execution_count": null,
      "outputs": [
        {
          "output_type": "stream",
          "name": "stdout",
          "text": [
            "0.7459964193663506\n"
          ]
        }
      ]
    },
    {
      "cell_type": "code",
      "metadata": {
        "colab": {
          "base_uri": "https://localhost:8080/"
        },
        "id": "vM7aIWyEjhZK",
        "outputId": "86521b93-c0ff-4b1d-8ec8-18a6362ac1c0"
      },
      "source": [
        "a = distance.euclidean(face_descriptor2, face_descriptorb)\n",
        "print(a)"
      ],
      "execution_count": null,
      "outputs": [
        {
          "output_type": "stream",
          "name": "stdout",
          "text": [
            "0.7370416792721332\n"
          ]
        }
      ]
    },
    {
      "cell_type": "markdown",
      "metadata": {
        "id": "ef81rQ_ia2_k"
      },
      "source": [
        ""
      ]
    }
  ]
}