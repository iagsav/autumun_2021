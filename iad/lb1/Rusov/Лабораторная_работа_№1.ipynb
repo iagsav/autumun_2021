{
  "nbformat": 4,
  "nbformat_minor": 0,
  "metadata": {
    "colab": {
      "name": "Лабораторная работа №1",
      "provenance": [],
      "collapsed_sections": []
    },
    "kernelspec": {
      "display_name": "Python 3",
      "name": "python3"
    },
    "language_info": {
      "name": "python"
    }
  },
  "cells": [
    {
      "cell_type": "code",
      "metadata": {
        "colab": {
          "base_uri": "https://localhost:8080/"
        },
        "id": "BghlkB57UO5V",
        "outputId": "770e5266-23e6-405a-a69c-31891a5ed958"
      },
      "source": [
        "from google.colab import drive\n",
        "drive.mount('/content/drive', force_remount=True)"
      ],
      "execution_count": null,
      "outputs": [
        {
          "name": "stdout",
          "output_type": "stream",
          "text": [
            "Mounted at /content/drive\n"
          ]
        }
      ]
    },
    {
      "cell_type": "code",
      "metadata": {
        "colab": {
          "base_uri": "https://localhost:8080/"
        },
        "id": "mPHie3NfH1Y8",
        "outputId": "40b95a21-b048-455e-eb28-7fbf7c54a34c"
      },
      "source": [
        "!ls \"/content/drive/My Drive/\""
      ],
      "execution_count": null,
      "outputs": [
        {
          "name": "stdout",
          "output_type": "stream",
          "text": [
            "'Colab Notebooks'     'Untitled Diagram (1).drawio'\n",
            " sample_solution.csv  'Untitled Diagram (2).drawio'\n",
            " test.csv\t      'Untitled Diagram.drawio'\n",
            " train.csv\t      'Untitled Diagram.drawio.png'\n"
          ]
        }
      ]
    },
    {
      "cell_type": "code",
      "metadata": {
        "id": "wu0unfeqvCm2"
      },
      "source": [
        "import pandas as pd\n",
        "data = pd.read_csv(\"/content/drive/My Drive/train.csv\")"
      ],
      "execution_count": null,
      "outputs": []
    },
    {
      "cell_type": "code",
      "metadata": {
        "colab": {
          "base_uri": "https://localhost:8080/",
          "height": 439
        },
        "id": "ZrHEYoUAvOme",
        "outputId": "6e1b533c-d38c-4598-da37-dc971442b225"
      },
      "source": [
        "data"
      ],
      "execution_count": null,
      "outputs": [
        {
          "data": {
            "text/html": [
              "<div>\n",
              "<style scoped>\n",
              "    .dataframe tbody tr th:only-of-type {\n",
              "        vertical-align: middle;\n",
              "    }\n",
              "\n",
              "    .dataframe tbody tr th {\n",
              "        vertical-align: top;\n",
              "    }\n",
              "\n",
              "    .dataframe thead th {\n",
              "        text-align: right;\n",
              "    }\n",
              "</style>\n",
              "<table border=\"1\" class=\"dataframe\">\n",
              "  <thead>\n",
              "    <tr style=\"text-align: right;\">\n",
              "      <th></th>\n",
              "      <th>Id</th>\n",
              "      <th>minutes_past</th>\n",
              "      <th>radardist_km</th>\n",
              "      <th>Ref</th>\n",
              "      <th>Ref_5x5_10th</th>\n",
              "      <th>Ref_5x5_50th</th>\n",
              "      <th>Ref_5x5_90th</th>\n",
              "      <th>RefComposite</th>\n",
              "      <th>RefComposite_5x5_10th</th>\n",
              "      <th>RefComposite_5x5_50th</th>\n",
              "      <th>RefComposite_5x5_90th</th>\n",
              "      <th>RhoHV</th>\n",
              "      <th>RhoHV_5x5_10th</th>\n",
              "      <th>RhoHV_5x5_50th</th>\n",
              "      <th>RhoHV_5x5_90th</th>\n",
              "      <th>Zdr</th>\n",
              "      <th>Zdr_5x5_10th</th>\n",
              "      <th>Zdr_5x5_50th</th>\n",
              "      <th>Zdr_5x5_90th</th>\n",
              "      <th>Kdp</th>\n",
              "      <th>Kdp_5x5_10th</th>\n",
              "      <th>Kdp_5x5_50th</th>\n",
              "      <th>Kdp_5x5_90th</th>\n",
              "      <th>Expected</th>\n",
              "    </tr>\n",
              "  </thead>\n",
              "  <tbody>\n",
              "    <tr>\n",
              "      <th>0</th>\n",
              "      <td>1</td>\n",
              "      <td>3</td>\n",
              "      <td>10.0</td>\n",
              "      <td>NaN</td>\n",
              "      <td>NaN</td>\n",
              "      <td>NaN</td>\n",
              "      <td>NaN</td>\n",
              "      <td>NaN</td>\n",
              "      <td>NaN</td>\n",
              "      <td>NaN</td>\n",
              "      <td>NaN</td>\n",
              "      <td>NaN</td>\n",
              "      <td>NaN</td>\n",
              "      <td>NaN</td>\n",
              "      <td>NaN</td>\n",
              "      <td>NaN</td>\n",
              "      <td>NaN</td>\n",
              "      <td>NaN</td>\n",
              "      <td>NaN</td>\n",
              "      <td>NaN</td>\n",
              "      <td>NaN</td>\n",
              "      <td>NaN</td>\n",
              "      <td>NaN</td>\n",
              "      <td>0.254000</td>\n",
              "    </tr>\n",
              "    <tr>\n",
              "      <th>1</th>\n",
              "      <td>1</td>\n",
              "      <td>16</td>\n",
              "      <td>10.0</td>\n",
              "      <td>NaN</td>\n",
              "      <td>NaN</td>\n",
              "      <td>NaN</td>\n",
              "      <td>NaN</td>\n",
              "      <td>NaN</td>\n",
              "      <td>NaN</td>\n",
              "      <td>NaN</td>\n",
              "      <td>NaN</td>\n",
              "      <td>NaN</td>\n",
              "      <td>NaN</td>\n",
              "      <td>NaN</td>\n",
              "      <td>NaN</td>\n",
              "      <td>NaN</td>\n",
              "      <td>NaN</td>\n",
              "      <td>NaN</td>\n",
              "      <td>NaN</td>\n",
              "      <td>NaN</td>\n",
              "      <td>NaN</td>\n",
              "      <td>NaN</td>\n",
              "      <td>NaN</td>\n",
              "      <td>0.254000</td>\n",
              "    </tr>\n",
              "    <tr>\n",
              "      <th>2</th>\n",
              "      <td>1</td>\n",
              "      <td>25</td>\n",
              "      <td>10.0</td>\n",
              "      <td>NaN</td>\n",
              "      <td>NaN</td>\n",
              "      <td>NaN</td>\n",
              "      <td>NaN</td>\n",
              "      <td>NaN</td>\n",
              "      <td>NaN</td>\n",
              "      <td>NaN</td>\n",
              "      <td>NaN</td>\n",
              "      <td>NaN</td>\n",
              "      <td>NaN</td>\n",
              "      <td>NaN</td>\n",
              "      <td>NaN</td>\n",
              "      <td>NaN</td>\n",
              "      <td>NaN</td>\n",
              "      <td>NaN</td>\n",
              "      <td>NaN</td>\n",
              "      <td>NaN</td>\n",
              "      <td>NaN</td>\n",
              "      <td>NaN</td>\n",
              "      <td>NaN</td>\n",
              "      <td>0.254000</td>\n",
              "    </tr>\n",
              "    <tr>\n",
              "      <th>3</th>\n",
              "      <td>1</td>\n",
              "      <td>35</td>\n",
              "      <td>10.0</td>\n",
              "      <td>NaN</td>\n",
              "      <td>NaN</td>\n",
              "      <td>NaN</td>\n",
              "      <td>NaN</td>\n",
              "      <td>NaN</td>\n",
              "      <td>NaN</td>\n",
              "      <td>NaN</td>\n",
              "      <td>NaN</td>\n",
              "      <td>NaN</td>\n",
              "      <td>NaN</td>\n",
              "      <td>NaN</td>\n",
              "      <td>NaN</td>\n",
              "      <td>NaN</td>\n",
              "      <td>NaN</td>\n",
              "      <td>NaN</td>\n",
              "      <td>NaN</td>\n",
              "      <td>NaN</td>\n",
              "      <td>NaN</td>\n",
              "      <td>NaN</td>\n",
              "      <td>NaN</td>\n",
              "      <td>0.254000</td>\n",
              "    </tr>\n",
              "    <tr>\n",
              "      <th>4</th>\n",
              "      <td>1</td>\n",
              "      <td>45</td>\n",
              "      <td>10.0</td>\n",
              "      <td>NaN</td>\n",
              "      <td>NaN</td>\n",
              "      <td>NaN</td>\n",
              "      <td>NaN</td>\n",
              "      <td>NaN</td>\n",
              "      <td>NaN</td>\n",
              "      <td>NaN</td>\n",
              "      <td>NaN</td>\n",
              "      <td>NaN</td>\n",
              "      <td>NaN</td>\n",
              "      <td>NaN</td>\n",
              "      <td>NaN</td>\n",
              "      <td>NaN</td>\n",
              "      <td>NaN</td>\n",
              "      <td>NaN</td>\n",
              "      <td>NaN</td>\n",
              "      <td>NaN</td>\n",
              "      <td>NaN</td>\n",
              "      <td>NaN</td>\n",
              "      <td>NaN</td>\n",
              "      <td>0.254000</td>\n",
              "    </tr>\n",
              "    <tr>\n",
              "      <th>...</th>\n",
              "      <td>...</td>\n",
              "      <td>...</td>\n",
              "      <td>...</td>\n",
              "      <td>...</td>\n",
              "      <td>...</td>\n",
              "      <td>...</td>\n",
              "      <td>...</td>\n",
              "      <td>...</td>\n",
              "      <td>...</td>\n",
              "      <td>...</td>\n",
              "      <td>...</td>\n",
              "      <td>...</td>\n",
              "      <td>...</td>\n",
              "      <td>...</td>\n",
              "      <td>...</td>\n",
              "      <td>...</td>\n",
              "      <td>...</td>\n",
              "      <td>...</td>\n",
              "      <td>...</td>\n",
              "      <td>...</td>\n",
              "      <td>...</td>\n",
              "      <td>...</td>\n",
              "      <td>...</td>\n",
              "      <td>...</td>\n",
              "    </tr>\n",
              "    <tr>\n",
              "      <th>13765196</th>\n",
              "      <td>1180945</td>\n",
              "      <td>38</td>\n",
              "      <td>9.0</td>\n",
              "      <td>33.0</td>\n",
              "      <td>19.5</td>\n",
              "      <td>25.5</td>\n",
              "      <td>36.5</td>\n",
              "      <td>33.0</td>\n",
              "      <td>20.5</td>\n",
              "      <td>28.0</td>\n",
              "      <td>36.5</td>\n",
              "      <td>NaN</td>\n",
              "      <td>NaN</td>\n",
              "      <td>NaN</td>\n",
              "      <td>NaN</td>\n",
              "      <td>NaN</td>\n",
              "      <td>NaN</td>\n",
              "      <td>NaN</td>\n",
              "      <td>NaN</td>\n",
              "      <td>NaN</td>\n",
              "      <td>NaN</td>\n",
              "      <td>NaN</td>\n",
              "      <td>NaN</td>\n",
              "      <td>8.636004</td>\n",
              "    </tr>\n",
              "    <tr>\n",
              "      <th>13765197</th>\n",
              "      <td>1180945</td>\n",
              "      <td>42</td>\n",
              "      <td>9.0</td>\n",
              "      <td>33.0</td>\n",
              "      <td>21.0</td>\n",
              "      <td>30.5</td>\n",
              "      <td>37.0</td>\n",
              "      <td>36.5</td>\n",
              "      <td>22.0</td>\n",
              "      <td>33.5</td>\n",
              "      <td>37.0</td>\n",
              "      <td>NaN</td>\n",
              "      <td>NaN</td>\n",
              "      <td>NaN</td>\n",
              "      <td>NaN</td>\n",
              "      <td>NaN</td>\n",
              "      <td>NaN</td>\n",
              "      <td>NaN</td>\n",
              "      <td>NaN</td>\n",
              "      <td>NaN</td>\n",
              "      <td>NaN</td>\n",
              "      <td>NaN</td>\n",
              "      <td>NaN</td>\n",
              "      <td>8.636004</td>\n",
              "    </tr>\n",
              "    <tr>\n",
              "      <th>13765198</th>\n",
              "      <td>1180945</td>\n",
              "      <td>47</td>\n",
              "      <td>9.0</td>\n",
              "      <td>29.5</td>\n",
              "      <td>10.0</td>\n",
              "      <td>26.0</td>\n",
              "      <td>30.5</td>\n",
              "      <td>31.0</td>\n",
              "      <td>16.5</td>\n",
              "      <td>26.0</td>\n",
              "      <td>33.0</td>\n",
              "      <td>1.041667</td>\n",
              "      <td>NaN</td>\n",
              "      <td>1.025000</td>\n",
              "      <td>1.051667</td>\n",
              "      <td>1.75</td>\n",
              "      <td>NaN</td>\n",
              "      <td>0.750</td>\n",
              "      <td>3.0000</td>\n",
              "      <td>13.379990</td>\n",
              "      <td>NaN</td>\n",
              "      <td>NaN</td>\n",
              "      <td>13.379990</td>\n",
              "      <td>8.636004</td>\n",
              "    </tr>\n",
              "    <tr>\n",
              "      <th>13765199</th>\n",
              "      <td>1180945</td>\n",
              "      <td>52</td>\n",
              "      <td>9.0</td>\n",
              "      <td>19.0</td>\n",
              "      <td>NaN</td>\n",
              "      <td>15.5</td>\n",
              "      <td>26.5</td>\n",
              "      <td>19.0</td>\n",
              "      <td>NaN</td>\n",
              "      <td>16.5</td>\n",
              "      <td>26.5</td>\n",
              "      <td>NaN</td>\n",
              "      <td>NaN</td>\n",
              "      <td>NaN</td>\n",
              "      <td>1.051667</td>\n",
              "      <td>NaN</td>\n",
              "      <td>NaN</td>\n",
              "      <td>NaN</td>\n",
              "      <td>2.8125</td>\n",
              "      <td>NaN</td>\n",
              "      <td>NaN</td>\n",
              "      <td>NaN</td>\n",
              "      <td>NaN</td>\n",
              "      <td>8.636004</td>\n",
              "    </tr>\n",
              "    <tr>\n",
              "      <th>13765200</th>\n",
              "      <td>1180945</td>\n",
              "      <td>57</td>\n",
              "      <td>9.0</td>\n",
              "      <td>7.5</td>\n",
              "      <td>NaN</td>\n",
              "      <td>10.0</td>\n",
              "      <td>13.0</td>\n",
              "      <td>14.5</td>\n",
              "      <td>10.0</td>\n",
              "      <td>12.5</td>\n",
              "      <td>16.0</td>\n",
              "      <td>1.051667</td>\n",
              "      <td>0.845</td>\n",
              "      <td>1.021667</td>\n",
              "      <td>1.051667</td>\n",
              "      <td>0.00</td>\n",
              "      <td>-1.125</td>\n",
              "      <td>0.375</td>\n",
              "      <td>3.2500</td>\n",
              "      <td>6.069992</td>\n",
              "      <td>NaN</td>\n",
              "      <td>-8.029999</td>\n",
              "      <td>6.069992</td>\n",
              "      <td>8.636004</td>\n",
              "    </tr>\n",
              "  </tbody>\n",
              "</table>\n",
              "<p>13765201 rows × 24 columns</p>\n",
              "</div>"
            ],
            "text/plain": [
              "               Id  minutes_past  ...  Kdp_5x5_90th  Expected\n",
              "0               1             3  ...           NaN  0.254000\n",
              "1               1            16  ...           NaN  0.254000\n",
              "2               1            25  ...           NaN  0.254000\n",
              "3               1            35  ...           NaN  0.254000\n",
              "4               1            45  ...           NaN  0.254000\n",
              "...           ...           ...  ...           ...       ...\n",
              "13765196  1180945            38  ...           NaN  8.636004\n",
              "13765197  1180945            42  ...           NaN  8.636004\n",
              "13765198  1180945            47  ...     13.379990  8.636004\n",
              "13765199  1180945            52  ...           NaN  8.636004\n",
              "13765200  1180945            57  ...      6.069992  8.636004\n",
              "\n",
              "[13765201 rows x 24 columns]"
            ]
          },
          "execution_count": 4,
          "metadata": {},
          "output_type": "execute_result"
        }
      ]
    },
    {
      "cell_type": "code",
      "metadata": {
        "id": "Zac9tzjVUeWW"
      },
      "source": [
        "train=data[data[:].notnull().all(1)]\n",
        "train = train.drop(columns=['Expected'])"
      ],
      "execution_count": null,
      "outputs": []
    },
    {
      "cell_type": "code",
      "metadata": {
        "id": "AU9NPu7Yju8w"
      },
      "source": [
        ""
      ],
      "execution_count": null,
      "outputs": []
    },
    {
      "cell_type": "code",
      "metadata": {
        "id": "7B4gslzVU5h_"
      },
      "source": [
        "# Среднее значение\n",
        "mymean = train.mean(axis=0)\n",
        "# Стандартное отклонение\n",
        "mystd = train.std(axis=0)\n",
        "train -= mymean\n",
        "train /= mystd"
      ],
      "execution_count": null,
      "outputs": []
    },
    {
      "cell_type": "code",
      "metadata": {
        "colab": {
          "base_uri": "https://localhost:8080/",
          "height": 439
        },
        "id": "_frEGVo0EUqV",
        "outputId": "f292f53b-0b47-4b95-e314-cd5240e53610"
      },
      "source": [
        "train"
      ],
      "execution_count": null,
      "outputs": [
        {
          "data": {
            "text/html": [
              "<div>\n",
              "<style scoped>\n",
              "    .dataframe tbody tr th:only-of-type {\n",
              "        vertical-align: middle;\n",
              "    }\n",
              "\n",
              "    .dataframe tbody tr th {\n",
              "        vertical-align: top;\n",
              "    }\n",
              "\n",
              "    .dataframe thead th {\n",
              "        text-align: right;\n",
              "    }\n",
              "</style>\n",
              "<table border=\"1\" class=\"dataframe\">\n",
              "  <thead>\n",
              "    <tr style=\"text-align: right;\">\n",
              "      <th></th>\n",
              "      <th>Id</th>\n",
              "      <th>minutes_past</th>\n",
              "      <th>radardist_km</th>\n",
              "      <th>Ref</th>\n",
              "      <th>Ref_5x5_10th</th>\n",
              "      <th>Ref_5x5_50th</th>\n",
              "      <th>Ref_5x5_90th</th>\n",
              "      <th>RefComposite</th>\n",
              "      <th>RefComposite_5x5_10th</th>\n",
              "      <th>RefComposite_5x5_50th</th>\n",
              "      <th>RefComposite_5x5_90th</th>\n",
              "      <th>RhoHV</th>\n",
              "      <th>RhoHV_5x5_10th</th>\n",
              "      <th>RhoHV_5x5_50th</th>\n",
              "      <th>RhoHV_5x5_90th</th>\n",
              "      <th>Zdr</th>\n",
              "      <th>Zdr_5x5_10th</th>\n",
              "      <th>Zdr_5x5_50th</th>\n",
              "      <th>Zdr_5x5_90th</th>\n",
              "      <th>Kdp</th>\n",
              "      <th>Kdp_5x5_10th</th>\n",
              "      <th>Kdp_5x5_50th</th>\n",
              "      <th>Kdp_5x5_90th</th>\n",
              "    </tr>\n",
              "  </thead>\n",
              "  <tbody>\n",
              "    <tr>\n",
              "      <th>6</th>\n",
              "      <td>-1.730214</td>\n",
              "      <td>-1.653082</td>\n",
              "      <td>-1.764987</td>\n",
              "      <td>-2.027488</td>\n",
              "      <td>-2.137413</td>\n",
              "      <td>-2.345488</td>\n",
              "      <td>-2.451912</td>\n",
              "      <td>-1.624559</td>\n",
              "      <td>-1.820328</td>\n",
              "      <td>-1.513511</td>\n",
              "      <td>-1.131028</td>\n",
              "      <td>0.394948</td>\n",
              "      <td>0.872967</td>\n",
              "      <td>0.552529</td>\n",
              "      <td>-0.424410</td>\n",
              "      <td>-0.033599</td>\n",
              "      <td>0.581523</td>\n",
              "      <td>-0.171791</td>\n",
              "      <td>-0.822728</td>\n",
              "      <td>0.333984</td>\n",
              "      <td>0.733073</td>\n",
              "      <td>-0.338742</td>\n",
              "      <td>-1.061764</td>\n",
              "    </tr>\n",
              "    <tr>\n",
              "      <th>9</th>\n",
              "      <td>-1.730214</td>\n",
              "      <td>-0.779645</td>\n",
              "      <td>-1.764987</td>\n",
              "      <td>-0.990108</td>\n",
              "      <td>-1.028839</td>\n",
              "      <td>-1.114821</td>\n",
              "      <td>-1.212121</td>\n",
              "      <td>-0.994261</td>\n",
              "      <td>-0.915443</td>\n",
              "      <td>-1.032068</td>\n",
              "      <td>-1.188719</td>\n",
              "      <td>0.320814</td>\n",
              "      <td>0.816740</td>\n",
              "      <td>0.552529</td>\n",
              "      <td>-0.251617</td>\n",
              "      <td>-0.159656</td>\n",
              "      <td>0.922629</td>\n",
              "      <td>-0.049742</td>\n",
              "      <td>-1.034499</td>\n",
              "      <td>0.102528</td>\n",
              "      <td>0.864761</td>\n",
              "      <td>-0.016213</td>\n",
              "      <td>-1.061764</td>\n",
              "    </tr>\n",
              "    <tr>\n",
              "      <th>10</th>\n",
              "      <td>-1.730214</td>\n",
              "      <td>-0.488500</td>\n",
              "      <td>-1.764987</td>\n",
              "      <td>-0.240889</td>\n",
              "      <td>-0.720901</td>\n",
              "      <td>-0.684088</td>\n",
              "      <td>-0.798857</td>\n",
              "      <td>-0.535863</td>\n",
              "      <td>-0.553489</td>\n",
              "      <td>-0.610805</td>\n",
              "      <td>-0.611807</td>\n",
              "      <td>0.394948</td>\n",
              "      <td>0.816740</td>\n",
              "      <td>0.552529</td>\n",
              "      <td>-0.424410</td>\n",
              "      <td>-0.159656</td>\n",
              "      <td>0.837352</td>\n",
              "      <td>-0.415888</td>\n",
              "      <td>-1.175680</td>\n",
              "      <td>-0.125666</td>\n",
              "      <td>0.864761</td>\n",
              "      <td>-0.338742</td>\n",
              "      <td>-0.810516</td>\n",
              "    </tr>\n",
              "    <tr>\n",
              "      <th>11</th>\n",
              "      <td>-1.730214</td>\n",
              "      <td>-0.197354</td>\n",
              "      <td>-1.764987</td>\n",
              "      <td>-1.681695</td>\n",
              "      <td>-1.275188</td>\n",
              "      <td>-1.299421</td>\n",
              "      <td>-1.330196</td>\n",
              "      <td>-1.452660</td>\n",
              "      <td>-1.036094</td>\n",
              "      <td>-1.212609</td>\n",
              "      <td>-1.419484</td>\n",
              "      <td>0.394948</td>\n",
              "      <td>0.816740</td>\n",
              "      <td>0.552529</td>\n",
              "      <td>-0.424410</td>\n",
              "      <td>0.155488</td>\n",
              "      <td>1.093181</td>\n",
              "      <td>0.072306</td>\n",
              "      <td>-1.034499</td>\n",
              "      <td>-0.585316</td>\n",
              "      <td>0.601386</td>\n",
              "      <td>-0.338742</td>\n",
              "      <td>-1.187390</td>\n",
              "    </tr>\n",
              "    <tr>\n",
              "      <th>12</th>\n",
              "      <td>-1.730214</td>\n",
              "      <td>0.093791</td>\n",
              "      <td>-1.764987</td>\n",
              "      <td>-0.471418</td>\n",
              "      <td>-0.412964</td>\n",
              "      <td>-0.561021</td>\n",
              "      <td>-0.739819</td>\n",
              "      <td>-0.363963</td>\n",
              "      <td>-0.251860</td>\n",
              "      <td>-0.430264</td>\n",
              "      <td>-0.669498</td>\n",
              "      <td>0.394948</td>\n",
              "      <td>0.816740</td>\n",
              "      <td>0.552529</td>\n",
              "      <td>-0.251617</td>\n",
              "      <td>-0.411772</td>\n",
              "      <td>0.496247</td>\n",
              "      <td>-0.293840</td>\n",
              "      <td>-1.105089</td>\n",
              "      <td>-0.357118</td>\n",
              "      <td>0.465937</td>\n",
              "      <td>-0.670482</td>\n",
              "      <td>-1.316604</td>\n",
              "    </tr>\n",
              "    <tr>\n",
              "      <th>...</th>\n",
              "      <td>...</td>\n",
              "      <td>...</td>\n",
              "      <td>...</td>\n",
              "      <td>...</td>\n",
              "      <td>...</td>\n",
              "      <td>...</td>\n",
              "      <td>...</td>\n",
              "      <td>...</td>\n",
              "      <td>...</td>\n",
              "      <td>...</td>\n",
              "      <td>...</td>\n",
              "      <td>...</td>\n",
              "      <td>...</td>\n",
              "      <td>...</td>\n",
              "      <td>...</td>\n",
              "      <td>...</td>\n",
              "      <td>...</td>\n",
              "      <td>...</td>\n",
              "      <td>...</td>\n",
              "      <td>...</td>\n",
              "      <td>...</td>\n",
              "      <td>...</td>\n",
              "      <td>...</td>\n",
              "    </tr>\n",
              "    <tr>\n",
              "      <th>13765002</th>\n",
              "      <td>1.755423</td>\n",
              "      <td>0.210250</td>\n",
              "      <td>-0.945791</td>\n",
              "      <td>-1.047741</td>\n",
              "      <td>-1.829476</td>\n",
              "      <td>-1.237888</td>\n",
              "      <td>-0.680782</td>\n",
              "      <td>-1.338060</td>\n",
              "      <td>-1.277397</td>\n",
              "      <td>-1.393150</td>\n",
              "      <td>-0.900263</td>\n",
              "      <td>0.394948</td>\n",
              "      <td>0.760514</td>\n",
              "      <td>0.552529</td>\n",
              "      <td>-0.424410</td>\n",
              "      <td>0.218516</td>\n",
              "      <td>1.093181</td>\n",
              "      <td>0.316404</td>\n",
              "      <td>-0.822728</td>\n",
              "      <td>-0.243023</td>\n",
              "      <td>0.733073</td>\n",
              "      <td>-0.016213</td>\n",
              "      <td>-1.061764</td>\n",
              "    </tr>\n",
              "    <tr>\n",
              "      <th>13765003</th>\n",
              "      <td>1.755423</td>\n",
              "      <td>0.559624</td>\n",
              "      <td>-0.945791</td>\n",
              "      <td>-1.624063</td>\n",
              "      <td>-1.891063</td>\n",
              "      <td>-1.791688</td>\n",
              "      <td>-1.212121</td>\n",
              "      <td>-0.994261</td>\n",
              "      <td>-0.855117</td>\n",
              "      <td>-0.911707</td>\n",
              "      <td>-1.131028</td>\n",
              "      <td>0.394948</td>\n",
              "      <td>0.760514</td>\n",
              "      <td>0.377387</td>\n",
              "      <td>-0.424410</td>\n",
              "      <td>0.596689</td>\n",
              "      <td>1.690116</td>\n",
              "      <td>1.170745</td>\n",
              "      <td>-0.328595</td>\n",
              "      <td>-0.011567</td>\n",
              "      <td>0.864761</td>\n",
              "      <td>0.960572</td>\n",
              "      <td>-0.810516</td>\n",
              "    </tr>\n",
              "    <tr>\n",
              "      <th>13765004</th>\n",
              "      <td>1.755423</td>\n",
              "      <td>0.908999</td>\n",
              "      <td>-0.945791</td>\n",
              "      <td>-1.566431</td>\n",
              "      <td>-1.459951</td>\n",
              "      <td>-1.607088</td>\n",
              "      <td>-1.507309</td>\n",
              "      <td>-0.822362</td>\n",
              "      <td>-0.915443</td>\n",
              "      <td>-0.971887</td>\n",
              "      <td>-1.131028</td>\n",
              "      <td>0.320814</td>\n",
              "      <td>0.816740</td>\n",
              "      <td>0.552529</td>\n",
              "      <td>-0.424410</td>\n",
              "      <td>0.344574</td>\n",
              "      <td>0.922629</td>\n",
              "      <td>0.072306</td>\n",
              "      <td>-0.963909</td>\n",
              "      <td>-0.125666</td>\n",
              "      <td>1.131892</td>\n",
              "      <td>0.306303</td>\n",
              "      <td>-1.065351</td>\n",
              "    </tr>\n",
              "    <tr>\n",
              "      <th>13765005</th>\n",
              "      <td>1.755423</td>\n",
              "      <td>1.258373</td>\n",
              "      <td>-0.945791</td>\n",
              "      <td>-0.932476</td>\n",
              "      <td>-1.336776</td>\n",
              "      <td>-1.422488</td>\n",
              "      <td>-1.507309</td>\n",
              "      <td>-0.994261</td>\n",
              "      <td>-1.036094</td>\n",
              "      <td>-1.032068</td>\n",
              "      <td>-1.015645</td>\n",
              "      <td>0.172546</td>\n",
              "      <td>0.704287</td>\n",
              "      <td>0.552529</td>\n",
              "      <td>0.093963</td>\n",
              "      <td>0.533660</td>\n",
              "      <td>0.837352</td>\n",
              "      <td>-0.049742</td>\n",
              "      <td>-0.752137</td>\n",
              "      <td>0.219885</td>\n",
              "      <td>0.733073</td>\n",
              "      <td>0.306303</td>\n",
              "      <td>-1.061764</td>\n",
              "    </tr>\n",
              "    <tr>\n",
              "      <th>13765006</th>\n",
              "      <td>1.755423</td>\n",
              "      <td>1.607748</td>\n",
              "      <td>-0.945791</td>\n",
              "      <td>-1.335902</td>\n",
              "      <td>-1.521538</td>\n",
              "      <td>-1.791688</td>\n",
              "      <td>-1.861535</td>\n",
              "      <td>-0.593163</td>\n",
              "      <td>-1.156746</td>\n",
              "      <td>-0.971887</td>\n",
              "      <td>-0.900263</td>\n",
              "      <td>0.469083</td>\n",
              "      <td>0.760514</td>\n",
              "      <td>0.727673</td>\n",
              "      <td>0.439548</td>\n",
              "      <td>0.281545</td>\n",
              "      <td>0.155141</td>\n",
              "      <td>-0.293840</td>\n",
              "      <td>-1.034499</td>\n",
              "      <td>-0.471217</td>\n",
              "      <td>0.465937</td>\n",
              "      <td>0.628833</td>\n",
              "      <td>-0.681302</td>\n",
              "    </tr>\n",
              "  </tbody>\n",
              "</table>\n",
              "<p>2769088 rows × 23 columns</p>\n",
              "</div>"
            ],
            "text/plain": [
              "                Id  minutes_past  ...  Kdp_5x5_50th  Kdp_5x5_90th\n",
              "6        -1.730214     -1.653082  ...     -0.338742     -1.061764\n",
              "9        -1.730214     -0.779645  ...     -0.016213     -1.061764\n",
              "10       -1.730214     -0.488500  ...     -0.338742     -0.810516\n",
              "11       -1.730214     -0.197354  ...     -0.338742     -1.187390\n",
              "12       -1.730214      0.093791  ...     -0.670482     -1.316604\n",
              "...            ...           ...  ...           ...           ...\n",
              "13765002  1.755423      0.210250  ...     -0.016213     -1.061764\n",
              "13765003  1.755423      0.559624  ...      0.960572     -0.810516\n",
              "13765004  1.755423      0.908999  ...      0.306303     -1.065351\n",
              "13765005  1.755423      1.258373  ...      0.306303     -1.061764\n",
              "13765006  1.755423      1.607748  ...      0.628833     -0.681302\n",
              "\n",
              "[2769088 rows x 23 columns]"
            ]
          },
          "execution_count": 7,
          "metadata": {},
          "output_type": "execute_result"
        }
      ]
    },
    {
      "cell_type": "code",
      "metadata": {
        "colab": {
          "base_uri": "https://localhost:8080/",
          "height": 317
        },
        "id": "WCvWs11pWk9H",
        "outputId": "76079d16-a53b-4c41-bb27-4578093cec38"
      },
      "source": [
        "train.describe()"
      ],
      "execution_count": null,
      "outputs": [
        {
          "data": {
            "text/html": [
              "<div>\n",
              "<style scoped>\n",
              "    .dataframe tbody tr th:only-of-type {\n",
              "        vertical-align: middle;\n",
              "    }\n",
              "\n",
              "    .dataframe tbody tr th {\n",
              "        vertical-align: top;\n",
              "    }\n",
              "\n",
              "    .dataframe thead th {\n",
              "        text-align: right;\n",
              "    }\n",
              "</style>\n",
              "<table border=\"1\" class=\"dataframe\">\n",
              "  <thead>\n",
              "    <tr style=\"text-align: right;\">\n",
              "      <th></th>\n",
              "      <th>Id</th>\n",
              "      <th>minutes_past</th>\n",
              "      <th>radardist_km</th>\n",
              "      <th>Ref</th>\n",
              "      <th>Ref_5x5_10th</th>\n",
              "      <th>Ref_5x5_50th</th>\n",
              "      <th>Ref_5x5_90th</th>\n",
              "      <th>RefComposite</th>\n",
              "      <th>RefComposite_5x5_10th</th>\n",
              "      <th>RefComposite_5x5_50th</th>\n",
              "      <th>RefComposite_5x5_90th</th>\n",
              "      <th>RhoHV</th>\n",
              "      <th>RhoHV_5x5_10th</th>\n",
              "      <th>RhoHV_5x5_50th</th>\n",
              "      <th>RhoHV_5x5_90th</th>\n",
              "      <th>Zdr</th>\n",
              "      <th>Zdr_5x5_10th</th>\n",
              "      <th>Zdr_5x5_50th</th>\n",
              "      <th>Zdr_5x5_90th</th>\n",
              "      <th>Kdp</th>\n",
              "      <th>Kdp_5x5_10th</th>\n",
              "      <th>Kdp_5x5_50th</th>\n",
              "      <th>Kdp_5x5_90th</th>\n",
              "    </tr>\n",
              "  </thead>\n",
              "  <tbody>\n",
              "    <tr>\n",
              "      <th>count</th>\n",
              "      <td>2.769088e+06</td>\n",
              "      <td>2.769088e+06</td>\n",
              "      <td>2.769088e+06</td>\n",
              "      <td>2.769088e+06</td>\n",
              "      <td>2.769088e+06</td>\n",
              "      <td>2.769088e+06</td>\n",
              "      <td>2.769088e+06</td>\n",
              "      <td>2.769088e+06</td>\n",
              "      <td>2.769088e+06</td>\n",
              "      <td>2.769088e+06</td>\n",
              "      <td>2.769088e+06</td>\n",
              "      <td>2.769088e+06</td>\n",
              "      <td>2.769088e+06</td>\n",
              "      <td>2.769088e+06</td>\n",
              "      <td>2.769088e+06</td>\n",
              "      <td>2.769088e+06</td>\n",
              "      <td>2.769088e+06</td>\n",
              "      <td>2.769088e+06</td>\n",
              "      <td>2.769088e+06</td>\n",
              "      <td>2.769088e+06</td>\n",
              "      <td>2.769088e+06</td>\n",
              "      <td>2.769088e+06</td>\n",
              "      <td>2.769088e+06</td>\n",
              "    </tr>\n",
              "    <tr>\n",
              "      <th>mean</th>\n",
              "      <td>-1.005507e-13</td>\n",
              "      <td>1.241574e-14</td>\n",
              "      <td>1.952397e-14</td>\n",
              "      <td>-1.077383e-13</td>\n",
              "      <td>-1.237997e-14</td>\n",
              "      <td>2.319070e-14</td>\n",
              "      <td>2.260570e-15</td>\n",
              "      <td>-7.575638e-15</td>\n",
              "      <td>2.200161e-14</td>\n",
              "      <td>1.184411e-14</td>\n",
              "      <td>-1.299678e-14</td>\n",
              "      <td>-3.422791e-11</td>\n",
              "      <td>-5.474002e-11</td>\n",
              "      <td>-1.372426e-10</td>\n",
              "      <td>3.562059e-10</td>\n",
              "      <td>-1.699251e-14</td>\n",
              "      <td>4.074514e-14</td>\n",
              "      <td>-4.457130e-14</td>\n",
              "      <td>-9.642849e-16</td>\n",
              "      <td>3.732864e-14</td>\n",
              "      <td>2.855122e-12</td>\n",
              "      <td>2.705135e-13</td>\n",
              "      <td>1.680694e-11</td>\n",
              "    </tr>\n",
              "    <tr>\n",
              "      <th>std</th>\n",
              "      <td>1.000000e+00</td>\n",
              "      <td>1.000000e+00</td>\n",
              "      <td>1.000000e+00</td>\n",
              "      <td>1.000000e+00</td>\n",
              "      <td>1.000000e+00</td>\n",
              "      <td>1.000000e+00</td>\n",
              "      <td>1.000000e+00</td>\n",
              "      <td>1.000000e+00</td>\n",
              "      <td>1.000000e+00</td>\n",
              "      <td>1.000000e+00</td>\n",
              "      <td>1.000000e+00</td>\n",
              "      <td>1.000000e+00</td>\n",
              "      <td>1.000000e+00</td>\n",
              "      <td>1.000000e+00</td>\n",
              "      <td>1.000000e+00</td>\n",
              "      <td>1.000000e+00</td>\n",
              "      <td>1.000000e+00</td>\n",
              "      <td>1.000000e+00</td>\n",
              "      <td>1.000000e+00</td>\n",
              "      <td>1.000000e+00</td>\n",
              "      <td>1.000000e+00</td>\n",
              "      <td>1.000000e+00</td>\n",
              "      <td>1.000000e+00</td>\n",
              "    </tr>\n",
              "    <tr>\n",
              "      <th>min</th>\n",
              "      <td>-1.730214e+00</td>\n",
              "      <td>-1.711311e+00</td>\n",
              "      <td>-2.311118e+00</td>\n",
              "      <td>-4.909099e+00</td>\n",
              "      <td>-5.524723e+00</td>\n",
              "      <td>-4.991423e+00</td>\n",
              "      <td>-4.636305e+00</td>\n",
              "      <td>-4.718749e+00</td>\n",
              "      <td>-4.534985e+00</td>\n",
              "      <td>-4.341991e+00</td>\n",
              "      <td>-4.188663e+00</td>\n",
              "      <td>-1.717485e+01</td>\n",
              "      <td>-1.245271e+01</td>\n",
              "      <td>-2.992224e+01</td>\n",
              "      <td>-1.355658e+01</td>\n",
              "      <td>-8.353400e+00</td>\n",
              "      <td>-9.992751e+00</td>\n",
              "      <td>-9.935685e+00</td>\n",
              "      <td>-3.505165e+00</td>\n",
              "      <td>-1.861594e+01</td>\n",
              "      <td>-2.381311e+01</td>\n",
              "      <td>-1.565402e+01</td>\n",
              "      <td>-3.071756e+00</td>\n",
              "    </tr>\n",
              "    <tr>\n",
              "      <th>25%</th>\n",
              "      <td>-8.732342e-01</td>\n",
              "      <td>-8.378744e-01</td>\n",
              "      <td>-6.727255e-01</td>\n",
              "      <td>-7.019472e-01</td>\n",
              "      <td>-6.593139e-01</td>\n",
              "      <td>-6.840879e-01</td>\n",
              "      <td>-6.807818e-01</td>\n",
              "      <td>-7.077622e-01</td>\n",
              "      <td>-6.741402e-01</td>\n",
              "      <td>-7.311656e-01</td>\n",
              "      <td>-7.271891e-01</td>\n",
              "      <td>-1.239910e-01</td>\n",
              "      <td>-3.077897e-01</td>\n",
              "      <td>-4.983244e-01</td>\n",
              "      <td>-5.972019e-01</td>\n",
              "      <td>-5.378291e-01</td>\n",
              "      <td>-5.270703e-01</td>\n",
              "      <td>-6.599856e-01</td>\n",
              "      <td>-7.521372e-01</td>\n",
              "      <td>-4.712168e-01</td>\n",
              "      <td>-3.918994e-01</td>\n",
              "      <td>-3.387422e-01</td>\n",
              "      <td>-6.848894e-01</td>\n",
              "    </tr>\n",
              "    <tr>\n",
              "      <th>50%</th>\n",
              "      <td>2.585581e-02</td>\n",
              "      <td>-2.266689e-02</td>\n",
              "      <td>1.464705e-01</td>\n",
              "      <td>-6.799277e-02</td>\n",
              "      <td>-4.343924e-02</td>\n",
              "      <td>-6.875437e-02</td>\n",
              "      <td>-3.136759e-02</td>\n",
              "      <td>-7.746425e-02</td>\n",
              "      <td>-1.055762e-02</td>\n",
              "      <td>-6.918099e-02</td>\n",
              "      <td>-3.489425e-02</td>\n",
              "      <td>2.466805e-01</td>\n",
              "      <td>3.107022e-01</td>\n",
              "      <td>2.022459e-01</td>\n",
              "      <td>-4.244104e-01</td>\n",
              "      <td>-3.359872e-02</td>\n",
              "      <td>6.986453e-02</td>\n",
              "      <td>-1.717909e-01</td>\n",
              "      <td>-1.874136e-01</td>\n",
              "      <td>-1.156656e-02</td>\n",
              "      <td>2.063335e-01</td>\n",
              "      <td>-1.621252e-02</td>\n",
              "      <td>-2.146960e-01</td>\n",
              "    </tr>\n",
              "    <tr>\n",
              "      <th>75%</th>\n",
              "      <td>8.643610e-01</td>\n",
              "      <td>8.507697e-01</td>\n",
              "      <td>6.926012e-01</td>\n",
              "      <td>6.235939e-01</td>\n",
              "      <td>6.956103e-01</td>\n",
              "      <td>6.696459e-01</td>\n",
              "      <td>6.770843e-01</td>\n",
              "      <td>6.674333e-01</td>\n",
              "      <td>6.530250e-01</td>\n",
              "      <td>6.529840e-01</td>\n",
              "      <td>6.574006e-01</td>\n",
              "      <td>3.949480e-01</td>\n",
              "      <td>6.480606e-01</td>\n",
              "      <td>5.525288e-01</td>\n",
              "      <td>2.667581e-01</td>\n",
              "      <td>5.336605e-01</td>\n",
              "      <td>5.815229e-01</td>\n",
              "      <td>5.605012e-01</td>\n",
              "      <td>5.184908e-01</td>\n",
              "      <td>4.480787e-01</td>\n",
              "      <td>6.201990e-01</td>\n",
              "      <td>6.288328e-01</td>\n",
              "      <td>4.529083e-01</td>\n",
              "    </tr>\n",
              "    <tr>\n",
              "      <th>max</th>\n",
              "      <td>1.755423e+00</td>\n",
              "      <td>1.724206e+00</td>\n",
              "      <td>1.784863e+00</td>\n",
              "      <td>5.003643e+00</td>\n",
              "      <td>4.945145e+00</td>\n",
              "      <td>4.792381e+00</td>\n",
              "      <td>4.632607e+00</td>\n",
              "      <td>6.798513e+00</td>\n",
              "      <td>4.875823e+00</td>\n",
              "      <td>4.865613e+00</td>\n",
              "      <td>6.599598e+00</td>\n",
              "      <td>1.581095e+00</td>\n",
              "      <td>1.772591e+00</td>\n",
              "      <td>3.354809e+00</td>\n",
              "      <td>2.340258e+00</td>\n",
              "      <td>7.592886e+00</td>\n",
              "      <td>1.158218e+01</td>\n",
              "      <td>1.471815e+01</td>\n",
              "      <td>7.153993e+00</td>\n",
              "      <td>2.522023e+01</td>\n",
              "      <td>2.456274e+00</td>\n",
              "      <td>9.843805e+00</td>\n",
              "      <td>4.111574e+01</td>\n",
              "    </tr>\n",
              "  </tbody>\n",
              "</table>\n",
              "</div>"
            ],
            "text/plain": [
              "                 Id  minutes_past  ...  Kdp_5x5_50th  Kdp_5x5_90th\n",
              "count  2.769088e+06  2.769088e+06  ...  2.769088e+06  2.769088e+06\n",
              "mean  -1.005507e-13  1.241574e-14  ...  2.705135e-13  1.680694e-11\n",
              "std    1.000000e+00  1.000000e+00  ...  1.000000e+00  1.000000e+00\n",
              "min   -1.730214e+00 -1.711311e+00  ... -1.565402e+01 -3.071756e+00\n",
              "25%   -8.732342e-01 -8.378744e-01  ... -3.387422e-01 -6.848894e-01\n",
              "50%    2.585581e-02 -2.266689e-02  ... -1.621252e-02 -2.146960e-01\n",
              "75%    8.643610e-01  8.507697e-01  ...  6.288328e-01  4.529083e-01\n",
              "max    1.755423e+00  1.724206e+00  ...  9.843805e+00  4.111574e+01\n",
              "\n",
              "[8 rows x 23 columns]"
            ]
          },
          "execution_count": 8,
          "metadata": {},
          "output_type": "execute_result"
        }
      ]
    },
    {
      "cell_type": "markdown",
      "metadata": {
        "id": "h-h3qdgcDSDR"
      },
      "source": [
        ""
      ]
    },
    {
      "cell_type": "code",
      "metadata": {
        "id": "ulp8IUi0Ldd9"
      },
      "source": [
        "y = train.iloc[:, 22]"
      ],
      "execution_count": null,
      "outputs": []
    },
    {
      "cell_type": "code",
      "metadata": {
        "colab": {
          "base_uri": "https://localhost:8080/"
        },
        "id": "0wAUWkhNNe-m",
        "outputId": "ac5ee8e1-68ef-4120-9869-eae80085a449"
      },
      "source": [
        "y"
      ],
      "execution_count": null,
      "outputs": [
        {
          "data": {
            "text/plain": [
              "6          -1.061764\n",
              "9          -1.061764\n",
              "10         -0.810516\n",
              "11         -1.187390\n",
              "12         -1.316604\n",
              "              ...   \n",
              "13765002   -1.061764\n",
              "13765003   -0.810516\n",
              "13765004   -1.065351\n",
              "13765005   -1.061764\n",
              "13765006   -0.681302\n",
              "Name: Kdp_5x5_90th, Length: 2769088, dtype: float64"
            ]
          },
          "execution_count": 22,
          "metadata": {},
          "output_type": "execute_result"
        }
      ]
    },
    {
      "cell_type": "code",
      "metadata": {
        "id": "Ct9ffgKWN_oY"
      },
      "source": [
        "import numpy as np\n",
        "from sklearn.model_selection import train_test_split"
      ],
      "execution_count": null,
      "outputs": []
    },
    {
      "cell_type": "code",
      "metadata": {
        "id": "g9kFvplXODcG"
      },
      "source": [
        "X_train, X_test, y_train, y_test = train_test_split(train, y, test_size=0.33, random_state=42)"
      ],
      "execution_count": null,
      "outputs": []
    },
    {
      "cell_type": "code",
      "metadata": {
        "id": "1hfIjkjHm_ty"
      },
      "source": [
        "!pip install -q -U keras-tuner"
      ],
      "execution_count": null,
      "outputs": []
    },
    {
      "cell_type": "code",
      "metadata": {
        "id": "Us4dludJncfG"
      },
      "source": [
        "%tensorflow_version 2.x\n",
        "from tensorflow.keras.models import Sequential\n",
        "from tensorflow.keras.layers import Dense\n",
        "from tensorflow.keras.layers import Dropout\n",
        "from tensorflow.keras import utils\n",
        "from google.colab import files\n",
        "from kerastuner.tuners import RandomSearch, Hyperband, BayesianOptimization\n",
        "import numpy as np"
      ],
      "execution_count": null,
      "outputs": []
    },
    {
      "cell_type": "code",
      "metadata": {
        "id": "ALAGi8kNnm90"
      },
      "source": [
        "def build_model(hp):\n",
        "  model = Sequential()\n",
        "\n",
        "  model.add(Dense(units=hp.Int('units_input', # Полносвязный слой с разным количеством нейронов\n",
        "    min_value=128, # минимальное количество нейронов - 128\n",
        "    max_value=1024, # максимальное количество - 1024\n",
        "    step=32), input_shape=(X_train.shape[1],), activation='relu'))\n",
        "  \n",
        "  model.add(Dense(1))\n",
        "\n",
        "  model.compile(optimizer=\"adam\", loss='mse', metrics=['mae'])\n",
        "  \n",
        "  return model"
      ],
      "execution_count": null,
      "outputs": []
    },
    {
      "cell_type": "code",
      "metadata": {
        "id": "0LcyN5frnu9U"
      },
      "source": [
        "rm -Rf /content/test_directory"
      ],
      "execution_count": null,
      "outputs": []
    },
    {
      "cell_type": "code",
      "metadata": {
        "id": "xl8P3BOGnxWL"
      },
      "source": [
        "tuner = RandomSearch(\n",
        "  build_model, # функция создания модели\n",
        "  objective='val_mae', # метрика, которую нужно оптимизировать   доля правильных ответов на проверочном наборе данных\n",
        "  max_trials=5, # максимальное количество запусков обучения\n",
        "  directory='test_directory' # каталог, куда сохраняются обученные сети\n",
        ")"
      ],
      "execution_count": null,
      "outputs": []
    },
    {
      "cell_type": "code",
      "metadata": {
        "colab": {
          "base_uri": "https://localhost:8080/"
        },
        "id": "l1XmtVj1n2TF",
        "outputId": "287c03da-56b3-49b6-e717-a19ea2d33058"
      },
      "source": [
        "tuner.search_space_summary()"
      ],
      "execution_count": null,
      "outputs": [
        {
          "name": "stdout",
          "output_type": "stream",
          "text": [
            "Search space summary\n",
            "Default search space size: 1\n",
            "units_input (Int)\n",
            "{'default': None, 'conditions': [], 'min_value': 128, 'max_value': 1024, 'step': 32, 'sampling': None}\n"
          ]
        }
      ]
    },
    {
      "cell_type": "code",
      "metadata": {
        "colab": {
          "base_uri": "https://localhost:8080/"
        },
        "id": "ryH51orFn92_",
        "outputId": "e5434525-e5f6-41b3-eeea-2e333ba39c0a"
      },
      "source": [
        "tuner.search(X_train, # Данные для обучения\n",
        "             y_train, # Данные для обучения\n",
        "             batch_size=250, # Размер мини-выборки\n",
        "             epochs=10, # Количество эпох обучения\n",
        "             validation_split=0.2, # Часть данных, которая будет использоваться для проверки\n",
        "            verbose=1,)"
      ],
      "execution_count": null,
      "outputs": [
        {
          "name": "stdout",
          "output_type": "stream",
          "text": [
            "Trial 5 Complete [00h 03m 31s]\n",
            "val_mae: 0.0006803500582464039\n",
            "\n",
            "Best val_mae So Far: 0.0003890393709298223\n",
            "Total elapsed time: 00h 19m 01s\n",
            "INFO:tensorflow:Oracle triggered exit\n"
          ]
        },
        {
          "name": "stderr",
          "output_type": "stream",
          "text": [
            "INFO:tensorflow:Oracle triggered exit\n"
          ]
        }
      ]
    },
    {
      "cell_type": "code",
      "metadata": {
        "colab": {
          "base_uri": "https://localhost:8080/"
        },
        "id": "8CCSfsHWsOwT",
        "outputId": "d2fc66e9-72ef-4ce2-be72-c1d8f23bac34"
      },
      "source": [
        "tuner.results_summary()"
      ],
      "execution_count": null,
      "outputs": [
        {
          "name": "stdout",
          "output_type": "stream",
          "text": [
            "Results summary\n",
            "Results in test_directory/untitled_project\n",
            "Showing 10 best trials\n",
            "Objective(name='val_mae', direction='min')\n",
            "Trial summary\n",
            "Hyperparameters:\n",
            "units_input: 224\n",
            "Score: 0.0003890393709298223\n",
            "Trial summary\n",
            "Hyperparameters:\n",
            "units_input: 928\n",
            "Score: 0.0005151439690962434\n",
            "Trial summary\n",
            "Hyperparameters:\n",
            "units_input: 576\n",
            "Score: 0.0005986620089970529\n",
            "Trial summary\n",
            "Hyperparameters:\n",
            "units_input: 864\n",
            "Score: 0.0006803500582464039\n",
            "Trial summary\n",
            "Hyperparameters:\n",
            "units_input: 960\n",
            "Score: 0.0008732301648706198\n"
          ]
        }
      ]
    },
    {
      "cell_type": "code",
      "metadata": {
        "id": "DZQOF1RBsQPq"
      },
      "source": [
        "models = tuner.get_best_models(num_models=3)"
      ],
      "execution_count": null,
      "outputs": []
    },
    {
      "cell_type": "code",
      "metadata": {
        "colab": {
          "base_uri": "https://localhost:8080/"
        },
        "id": "AkixdoStsVF7",
        "outputId": "bfa5d06c-88f1-4029-eede-374ffdab5ca4"
      },
      "source": [
        "for model in models:\n",
        "  model.summary()\n",
        "  model.evaluate(X_test, y_test)\n",
        "  print() "
      ],
      "execution_count": null,
      "outputs": [
        {
          "name": "stdout",
          "output_type": "stream",
          "text": [
            "Model: \"sequential\"\n",
            "_________________________________________________________________\n",
            "Layer (type)                 Output Shape              Param #   \n",
            "=================================================================\n",
            "dense (Dense)                (None, 224)               5376      \n",
            "_________________________________________________________________\n",
            "dense_1 (Dense)              (None, 1)                 225       \n",
            "=================================================================\n",
            "Total params: 5,601\n",
            "Trainable params: 5,601\n",
            "Non-trainable params: 0\n",
            "_________________________________________________________________\n",
            "28557/28557 [==============================] - 31s 1ms/step - loss: 2.6822e-07 - mae: 3.8870e-04\n",
            "\n",
            "Model: \"sequential\"\n",
            "_________________________________________________________________\n",
            "Layer (type)                 Output Shape              Param #   \n",
            "=================================================================\n",
            "dense (Dense)                (None, 928)               22272     \n",
            "_________________________________________________________________\n",
            "dense_1 (Dense)              (None, 1)                 929       \n",
            "=================================================================\n",
            "Total params: 23,201\n",
            "Trainable params: 23,201\n",
            "Non-trainable params: 0\n",
            "_________________________________________________________________\n",
            "28557/28557 [==============================] - 29s 1ms/step - loss: 5.4499e-07 - mae: 5.1564e-04\n",
            "\n",
            "Model: \"sequential\"\n",
            "_________________________________________________________________\n",
            "Layer (type)                 Output Shape              Param #   \n",
            "=================================================================\n",
            "dense (Dense)                (None, 576)               13824     \n",
            "_________________________________________________________________\n",
            "dense_1 (Dense)              (None, 1)                 577       \n",
            "=================================================================\n",
            "Total params: 14,401\n",
            "Trainable params: 14,401\n",
            "Non-trainable params: 0\n",
            "_________________________________________________________________\n",
            "28557/28557 [==============================] - 31s 1ms/step - loss: 6.0455e-07 - mae: 5.9759e-04\n",
            "\n"
          ]
        }
      ]
    },
    {
      "cell_type": "code",
      "metadata": {
        "id": "_P7pc-W05pBJ"
      },
      "source": [
        "def build_model2(hp):\n",
        "  model = Sequential()\n",
        "\n",
        "  model.add(Dense(units=hp.Int('units_input', # Полносвязный слой с разным количеством нейронов\n",
        "    min_value=512, # минимальное кол ичество нейронов - 128\n",
        "    max_value=1024, # максимальное количество - 1024\n",
        "    step=32), input_shape=(X_train.shape[1],), activation='relu'))\n",
        "  \n",
        "  model.add(Dense(units=hp.Int('units_hidden', min_value=128, max_value=600, step=32), activation='relu'))\n",
        "  \n",
        "  model.add(Dense(1))\n",
        "\n",
        "  model.compile(optimizer=\"adam\", loss='mse', metrics=['mae'])\n",
        "  return model"
      ],
      "execution_count": null,
      "outputs": []
    },
    {
      "cell_type": "code",
      "metadata": {
        "id": "RSnS-oJSs5Jg"
      },
      "source": [
        "rm -Rf /content/test_directory2"
      ],
      "execution_count": null,
      "outputs": []
    },
    {
      "cell_type": "code",
      "metadata": {
        "id": "1tgbQhWTs74c"
      },
      "source": [
        "tuner2 = BayesianOptimization(\n",
        "  build_model2, # функция создания модели\n",
        "  objective ='val_mae', # метрика, которую нужно оптимизировать\n",
        "  max_trials = 5, # максимальное количество запусков обучения\n",
        "  directory ='test_directory2' # каталог, куда сохраняются обученные сети\n",
        ")"
      ],
      "execution_count": null,
      "outputs": []
    },
    {
      "cell_type": "code",
      "metadata": {
        "colab": {
          "base_uri": "https://localhost:8080/"
        },
        "id": "yP2LhGL6s-rS",
        "outputId": "134e25fc-1637-4ce7-ed42-948e4c35c9a7"
      },
      "source": [
        "tuner2.search_space_summary()"
      ],
      "execution_count": null,
      "outputs": [
        {
          "name": "stdout",
          "output_type": "stream",
          "text": [
            "Search space summary\n",
            "Default search space size: 2\n",
            "units_input (Int)\n",
            "{'default': None, 'conditions': [], 'min_value': 512, 'max_value': 1024, 'step': 32, 'sampling': None}\n",
            "units_hidden (Int)\n",
            "{'default': None, 'conditions': [], 'min_value': 128, 'max_value': 600, 'step': 32, 'sampling': None}\n"
          ]
        }
      ]
    },
    {
      "cell_type": "code",
      "metadata": {
        "colab": {
          "background_save": true,
          "base_uri": "https://localhost:8080/"
        },
        "id": "QToGXJbktBpr",
        "outputId": "e6402b10-a346-466d-bbb8-d3c8842ec859"
      },
      "source": [
        "tuner2.search(X_train, # Данные для обучения\n",
        "             y_train, # Данные для обучения\n",
        "             batch_size=1000, # Размер мини-выборки\n",
        "             epochs=20, # Количество эпох обучения\n",
        "             validation_split=0.2, # Часть данных, которая будет использоваться для проверки\n",
        "            verbose=1,)"
      ],
      "execution_count": null,
      "outputs": [
        {
          "name": "stdout",
          "output_type": "stream",
          "text": [
            "Trial 5 Complete [00h 19m 44s]\n",
            "val_mae: 0.0004893325385637581\n",
            "\n",
            "Best val_mae So Far: 0.00045187119394540787\n",
            "Total elapsed time: 01h 36m 16s\n",
            "INFO:tensorflow:Oracle triggered exit\n"
          ]
        },
        {
          "name": "stderr",
          "output_type": "stream",
          "text": [
            "INFO:tensorflow:Oracle triggered exit\n"
          ]
        }
      ]
    },
    {
      "cell_type": "code",
      "metadata": {
        "id": "_X-pk8Jr5AOG"
      },
      "source": [
        "tuner2.results_summary()"
      ],
      "execution_count": null,
      "outputs": []
    },
    {
      "cell_type": "code",
      "metadata": {
        "id": "xpKI9LWS5SVB"
      },
      "source": [
        "models2 = tuner2.get_best_models(num_models=3)"
      ],
      "execution_count": null,
      "outputs": []
    },
    {
      "cell_type": "code",
      "metadata": {
        "id": "Y4rSuQPE5Vho"
      },
      "source": [
        "for model in models2:\n",
        "  model.summary()\n",
        "  model.evaluate(X_test, y_test)\n",
        "  print() "
      ],
      "execution_count": null,
      "outputs": []
    },
    {
      "cell_type": "code",
      "metadata": {
        "id": "qLrzxTbU5fYq"
      },
      "source": [
        "def build_model3(hp):\n",
        "  model = Sequential()\n",
        "\n",
        "  activation_choice = hp.Choice('activation', values=['relu', 'sigmoid', 'tanh', 'elu', 'selu'])\n",
        "\n",
        "  model.add(Dense(units=hp.Int('units_input', # Полносвязный слой с разным количеством нейронов\n",
        "                               min_value=512, # минимальное количество нейронов - 128\n",
        "                               max_value=1024, # максимальное количество - 1024\n",
        "                               step=32), input_shape=(X_train.shape[1],), activation=activation_choice))\n",
        "  \n",
        "  model.add(Dense(units=hp.Int('units_hidden', min_value=128, max_value=600, step=32), activation=activation_choice))\n",
        "  \n",
        "  model.add(Dense(1))\n",
        "\n",
        "  model.compile(optimizer=hp.Choice('optimizer', values=['adam','rmsprop','SGD']), loss='mse', metrics=['mae'])\n",
        "\n",
        "  return model"
      ],
      "execution_count": null,
      "outputs": []
    },
    {
      "cell_type": "code",
      "metadata": {
        "id": "jOVh6_-g5icC"
      },
      "source": [
        "rm -Rf /content/test_directory3"
      ],
      "execution_count": null,
      "outputs": []
    },
    {
      "cell_type": "code",
      "metadata": {
        "id": "emuSKk4b5kj_"
      },
      "source": [
        "tuner3 = BayesianOptimization(\n",
        "  build_model3, # функция создания модели\n",
        "  objective ='val_mae', # метрика, которую нужно оптимизировать\n",
        "  max_trials = 5, # максимальное количество запусков обучения\n",
        "  directory ='test_directory3' # каталог, куда сохраняются обученные сети\n",
        ")"
      ],
      "execution_count": null,
      "outputs": []
    },
    {
      "cell_type": "code",
      "metadata": {
        "id": "7PJEHCjP5nSp"
      },
      "source": [
        "!free -h"
      ],
      "execution_count": null,
      "outputs": []
    },
    {
      "cell_type": "code",
      "metadata": {
        "id": "8V9X8qX25p7u"
      },
      "source": [
        "tuner3.search_space_summary()"
      ],
      "execution_count": null,
      "outputs": []
    },
    {
      "cell_type": "code",
      "metadata": {
        "id": "F1XBbeVD5rCT"
      },
      "source": [
        "tuner3.search(X_train, # Данные для обучения\n",
        "             y_train, # Данные для обучения\n",
        "             batch_size=32, # Размер мини-выборки\n",
        "             epochs=10, # Количество эпох обучения\n",
        "             validation_split=0.2, # Часть данных, которая будет использоваться для проверки\n",
        "            verbose=1,)"
      ],
      "execution_count": null,
      "outputs": []
    },
    {
      "cell_type": "code",
      "metadata": {
        "id": "7iJnOIN_HAOx"
      },
      "source": [
        "tuner3.results_summary()"
      ],
      "execution_count": null,
      "outputs": []
    },
    {
      "cell_type": "code",
      "metadata": {
        "id": "0p6uG0xAHGBp"
      },
      "source": [
        "models3 = tuner3.get_best_models(num_models=3)"
      ],
      "execution_count": null,
      "outputs": []
    },
    {
      "cell_type": "code",
      "metadata": {
        "id": "eyNaYW8RHKcK"
      },
      "source": [
        "for model in models3:\n",
        "  model.summary()\n",
        "  model.evaluate(X_test, y_test)\n",
        "  print() "
      ],
      "execution_count": null,
      "outputs": []
    },
    {
      "cell_type": "code",
      "metadata": {
        "id": "8VTIO7E_HYpX"
      },
      "source": [
        "def build_model4(hp):\n",
        "\n",
        "  model = Sequential()\n",
        "\n",
        "  activation_choice = hp.Choice(\"activation\", values=['relu', 'selu', 'elu'])\n",
        "  \n",
        "  model.add(Dense(units=hp.Int(\"units_input\", min_value=32,\n",
        "                               max_value=1024,\n",
        "                               step=32),\n",
        "                  activation=activation_choice, \n",
        "                  input_shape=(X_train.shape[1], )))\n",
        "  \n",
        "  model.add(Dropout(0.3))\n",
        "\n",
        "  for i in range(hp.Choice('hidden_layers', values=[1,2,3])):\n",
        "    model.add(Dense(units=hp.Int(f'layer_{i}_units_',\n",
        "                                 min_value=32//(i+1),\n",
        "                                 max_value=512//(i+1), \n",
        "                                 step=64//(i+1)),\n",
        "                     activation=activation_choice))\n",
        "  \n",
        "  model.add(Dense(1))\n",
        "\n",
        "  model.compile(optimizer=hp.Choice('optimizer', values=['adam','rmsprop','SGD']), loss='mse', metrics=['mae'])\n",
        "\n",
        "  model.summary()\n",
        "  return model"
      ],
      "execution_count": null,
      "outputs": []
    },
    {
      "cell_type": "code",
      "metadata": {
        "id": "xWwMQnHIHZ6f"
      },
      "source": [
        "tuner4 = BayesianOptimization(\n",
        "  build_model4, # функция создания модели\n",
        "  objective ='val_mae', # метрика, которую нужно оптимизировать\n",
        "  max_trials = 5, # максимальное количество запусков обучения\n",
        "  directory ='test_directory5' # каталог, куда сохраняются обученные сети\n",
        ")"
      ],
      "execution_count": null,
      "outputs": []
    },
    {
      "cell_type": "code",
      "metadata": {
        "id": "uUQMxwwjHf2_"
      },
      "source": [
        "tuner4.search_space_summary()"
      ],
      "execution_count": null,
      "outputs": []
    },
    {
      "cell_type": "code",
      "metadata": {
        "id": "H5Lq5j7GHgyG"
      },
      "source": [
        "tuner4.search(X_train, # Данные для обучения\n",
        "             y_train, # Данные для обучения\n",
        "             batch_size=32, # Размер мини-выборки\n",
        "             epochs=10, # Количество эпох обучения\n",
        "             validation_split=0.2, # Часть данных, которая будет использоваться для проверки\n",
        "            verbose=1,)"
      ],
      "execution_count": null,
      "outputs": []
    },
    {
      "cell_type": "code",
      "metadata": {
        "id": "RltqZ861cL_9"
      },
      "source": [
        "tuner4.results_summary()"
      ],
      "execution_count": null,
      "outputs": []
    },
    {
      "cell_type": "code",
      "metadata": {
        "id": "6YqK5DCbcZrb"
      },
      "source": [
        "models4 = tuner4.get_best_models(num_models=3)"
      ],
      "execution_count": null,
      "outputs": []
    },
    {
      "cell_type": "code",
      "metadata": {
        "id": "hpMdIechceJE"
      },
      "source": [
        "for model in models4:\n",
        "  model.summary()\n",
        "  model.evaluate(X_test, y_test)\n",
        "  print() "
      ],
      "execution_count": null,
      "outputs": []
    },
    {
      "cell_type": "code",
      "metadata": {
        "id": "GYxqOkaJcvcQ"
      },
      "source": [
        "best_params = tuner4.get_best_hyperparameters()[0]\n",
        "best_model = tuner4.hypermodel.build(best_params)\n",
        "best_model.summary()"
      ],
      "execution_count": null,
      "outputs": []
    },
    {
      "cell_type": "code",
      "metadata": {
        "id": "comzflsnc2aA"
      },
      "source": [
        "best_model.fit(X_train, y_train, epochs=10, batch_size=32, validation_split=0.2)"
      ],
      "execution_count": null,
      "outputs": []
    },
    {
      "cell_type": "code",
      "metadata": {
        "id": "M7qizpYMg5RM"
      },
      "source": [
        "predicted_y_tuner = best_model.predict(X_test)\n",
        "predicted_y_tuner = np.round(predicted_y_tuner, 0)\n",
        "\n",
        "predicted_y_tuner = np.reshape(predicted_y_tuner, (predicted_y_tuner.shape[0]))\n",
        "\n",
        "СС_tuner = np.corrcoef(predicted_y_tuner, y_test)\n",
        "СС_tuner = СС_tuner[0][1]\n",
        "print(f'Коэффициент корреляции с истинными данными: {СС_tuner}')"
      ],
      "execution_count": null,
      "outputs": []
    },
    {
      "cell_type": "code",
      "metadata": {
        "id": "yM9pmLpHOTyk"
      },
      "source": [
        "model = Sequential()\n",
        "model.add(Dense(448, activation='relu'))\n",
        "model.add(Dense(1))"
      ],
      "execution_count": null,
      "outputs": []
    },
    {
      "cell_type": "code",
      "metadata": {
        "id": "mHENhZcHOcDd"
      },
      "source": [
        "model.compile(optimizer='adam', loss='mse', metrics=['mae'])"
      ],
      "execution_count": null,
      "outputs": []
    },
    {
      "cell_type": "code",
      "metadata": {
        "id": "ZOtxC3x2OftF"
      },
      "source": [
        "model.fit(X_train, y_train, epochs=50, batch_size=120, validation_split=0.2, verbose=1)"
      ],
      "execution_count": null,
      "outputs": []
    },
    {
      "cell_type": "code",
      "metadata": {
        "id": "kitdXvF5RReL"
      },
      "source": [
        "print(model.summary())"
      ],
      "execution_count": null,
      "outputs": []
    },
    {
      "cell_type": "code",
      "metadata": {
        "id": "U0pT4RtBYavv"
      },
      "source": [
        "pred = model.predict(X_test)"
      ],
      "execution_count": null,
      "outputs": []
    },
    {
      "cell_type": "code",
      "metadata": {
        "id": "-SZ55Ds8UjWR"
      },
      "source": [
        "y_test = y_test.reset_index(drop=True)"
      ],
      "execution_count": null,
      "outputs": []
    },
    {
      "cell_type": "code",
      "metadata": {
        "id": "Pmq7yf-GUmm4"
      },
      "source": [
        "print(\"Предсказанное наблюдение  в конце часа:\", pred[23][0], \", правильное  наблюдение  в конце часа:\", y_test[23])"
      ],
      "execution_count": null,
      "outputs": []
    },
    {
      "cell_type": "code",
      "metadata": {
        "id": "xJwicE1XaiQd"
      },
      "source": [
        "vec = np.array([])\n",
        "for i in np.arange(0, len(pred)):\n",
        "  vec = np.append(vec, pred[i][0])\n",
        "vec "
      ],
      "execution_count": null,
      "outputs": []
    },
    {
      "cell_type": "code",
      "metadata": {
        "id": "MibRwRSPawQT"
      },
      "source": [
        "sorted = np.sort(pred, )\n",
        "sorted"
      ],
      "execution_count": null,
      "outputs": []
    },
    {
      "cell_type": "code",
      "metadata": {
        "id": "BzXJXBb4azsR"
      },
      "source": [
        "for i in np.arange(0, len(y_test)):\n",
        "    print(\"Предсказанное наблюдение  в конце часа:\", pred[i][0], \", правильное наблюдение  в конце часа:\", y_test[i], 'разница: ', np.abs(pred[i][0] - y_test[i]))"
      ],
      "execution_count": null,
      "outputs": []
    },
    {
      "cell_type": "code",
      "metadata": {
        "id": "9wOZIC-8cfsq"
      },
      "source": [
        "СС_tuner = np.corrcoef(vec, y_test)\n",
        "СС_tuner = СС_tuner[0][1]\n",
        "print(f'Коэффициаент корреляция с истинными данными: {СС_tuner}')"
      ],
      "execution_count": null,
      "outputs": []
    }
  ]
}