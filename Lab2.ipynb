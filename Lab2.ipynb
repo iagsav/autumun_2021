{
  "nbformat": 4,
  "nbformat_minor": 0,
  "metadata": {
    "colab": {
      "name": "Lab2.ipynb",
      "provenance": [],
      "collapsed_sections": [],
      "toc_visible": true
    },
    "kernelspec": {
      "name": "python3",
      "display_name": "Python 3"
    },
    "language_info": {
      "name": "python"
    },
    "accelerator": "GPU"
  },
  "cells": [
    {
      "cell_type": "markdown",
      "metadata": {
        "id": "xfQ7bOndLgBp"
      },
      "source": [
        "\n",
        "Датасет - https://keras.io/api/datasets/mnist\n",
        "\n",
        "Сеть - https://keras.io/api/applications/xception"
      ]
    },
    {
      "cell_type": "code",
      "metadata": {
        "id": "PYh4yZ6QMc_n"
      },
      "source": [
        "#import necessary libraries\n",
        "\n",
        "import tensorflow as tf\n",
        "from tensorflow.keras.layers import Input,Dense,Conv2D,Add\n",
        "from tensorflow.keras.layers import SeparableConv2D,ReLU\n",
        "from tensorflow.keras.layers import BatchNormalization,MaxPool2D\n",
        "from tensorflow.keras.layers import GlobalAvgPool2D\n",
        "from tensorflow.keras.layers import Dropout\n",
        "from tensorflow.keras import Model\n",
        "from keras.datasets import mnist\n",
        "import numpy as np\n",
        "import matplotlib.pyplot as plt"
      ],
      "execution_count": null,
      "outputs": []
    },
    {
      "cell_type": "code",
      "metadata": {
        "id": "fJtiinTLNBFt",
        "colab": {
          "base_uri": "https://localhost:8080/"
        },
        "outputId": "6b7d3c7f-8d9d-4506-9d01-f69376a3e9cf"
      },
      "source": [
        "(train_image, train_label), (test_image, test_label) = mnist.load_data()"
      ],
      "execution_count": null,
      "outputs": [
        {
          "output_type": "stream",
          "name": "stdout",
          "text": [
            "Downloading data from https://storage.googleapis.com/tensorflow/tf-keras-datasets/mnist.npz\n",
            "11493376/11490434 [==============================] - 0s 0us/step\n",
            "11501568/11490434 [==============================] - 0s 0us/step\n"
          ]
        }
      ]
    },
    {
      "cell_type": "markdown",
      "metadata": {
        "id": "_2joswetc3L0"
      },
      "source": [
        "Данные содержат 60000 тренировочных изображений 28х28 и 10000 тестовых"
      ]
    },
    {
      "cell_type": "code",
      "metadata": {
        "colab": {
          "base_uri": "https://localhost:8080/"
        },
        "id": "FrpxTb3oH98-",
        "outputId": "041184a1-5851-4b16-86e6-b014f0bc453e"
      },
      "source": [
        "print(train_image.shape)\n",
        "print(len(train_label))\n",
        "print(test_image.shape)\n",
        "print(len(test_label))"
      ],
      "execution_count": null,
      "outputs": [
        {
          "output_type": "stream",
          "name": "stdout",
          "text": [
            "(60000, 28, 28)\n",
            "60000\n",
            "(10000, 28, 28)\n",
            "10000\n"
          ]
        }
      ]
    },
    {
      "cell_type": "code",
      "metadata": {
        "id": "udEb3J5OayRz"
      },
      "source": [
        "# Нормализация значений, чтобы они были от 0 до 1\n",
        "train_image = train_image / 255.0\n",
        "test_image = test_image / 255.0"
      ],
      "execution_count": null,
      "outputs": []
    },
    {
      "cell_type": "markdown",
      "metadata": {
        "id": "DWeZSF5WcpJz"
      },
      "source": [
        "Выведем первые 10 элементов"
      ]
    },
    {
      "cell_type": "code",
      "metadata": {
        "colab": {
          "base_uri": "https://localhost:8080/",
          "height": 354
        },
        "id": "t535DdE3e8wE",
        "outputId": "7da71f2e-2016-4226-ed5d-b0c70c01b1ca"
      },
      "source": [
        "plt.figure(figsize=(15,15))\n",
        "for i in range(10):\n",
        "    plt.subplot(5,5,i+1)\n",
        "    plt.xticks([])\n",
        "    plt.yticks([])\n",
        "    plt.grid(False)\n",
        "    plt.imshow(train_image[i], cmap=plt.cm.binary) #, cmap=plt.cm.binary\n",
        "    plt.xlabel(train_label[i])\n",
        "plt.show()"
      ],
      "execution_count": null,
      "outputs": [
        {
          "output_type": "display_data",
          "data": {
            "image/png": "[encoded data removed]",
            "text/plain": [
              "<Figure size 1080x1080 with 10 Axes>"
            ]
          },
          "metadata": {}
        }
      ]
    },
    {
      "cell_type": "code",
      "metadata": {
        "id": "WZUNtC7fJp6f"
      },
      "source": [
        "from tensorflow.keras.utils import to_categorical \n",
        "train_label = to_categorical(train_label)\n",
        "test_label = to_categorical(test_label)"
      ],
      "execution_count": null,
      "outputs": []
    },
    {
      "cell_type": "code",
      "metadata": {
        "id": "QwBXiCJ5aL9g"
      },
      "source": [
        "train_image = train_image.reshape(-1, 28, 28, 1)\n",
        "test_image = test_image.reshape(-1, 28, 28, 1)"
      ],
      "execution_count": null,
      "outputs": []
    },
    {
      "cell_type": "code",
      "metadata": {
        "id": "7ZrA6RiEpquI"
      },
      "source": [
        "# creating the Conv-Batch Norm block\n",
        "\n",
        "def conv_bn(x, filters, kernel_size, strides=1):\n",
        "    \n",
        "    x = Conv2D(filters=filters, \n",
        "               kernel_size = kernel_size, \n",
        "               strides=strides, \n",
        "               padding = 'same', \n",
        "               use_bias = False)(x)\n",
        "    x = BatchNormalization()(x)\n",
        "    \n",
        "    return x"
      ],
      "execution_count": null,
      "outputs": []
    },
    {
      "cell_type": "code",
      "metadata": {
        "id": "fwB5sLkIkRid"
      },
      "source": [
        "# creating separableConv-Batch Norm block\n",
        "\n",
        "def sep_bn(x, filters, kernel_size, strides=1):\n",
        "    \n",
        "    x = SeparableConv2D(filters=filters, \n",
        "                        kernel_size = kernel_size, \n",
        "                        strides=strides, \n",
        "                        padding = 'same', \n",
        "                        use_bias = False)(x)\n",
        "    x = BatchNormalization()(x)\n",
        "    return x\n"
      ],
      "execution_count": null,
      "outputs": []
    },
    {
      "cell_type": "code",
      "metadata": {
        "id": "HY7itIudkUll"
      },
      "source": [
        "# entry flow\n",
        "\n",
        "def entry_flow(x):\n",
        "    \n",
        "    x = conv_bn(x, filters =32, kernel_size =3, strides=2)\n",
        "    x = ReLU()(x)\n",
        "    x = conv_bn(x, filters =64, kernel_size =3, strides=1)\n",
        "    tensor = ReLU()(x)\n",
        "    \n",
        "    x = sep_bn(tensor, filters = 128, kernel_size =3)\n",
        "    x = ReLU()(x)\n",
        "    x = sep_bn(x, filters = 128, kernel_size =3)\n",
        "    x = MaxPool2D(pool_size=3, strides=2, padding = 'same')(x)\n",
        "    \n",
        "    tensor = conv_bn(tensor, filters=128, kernel_size = 1,strides=2)\n",
        "    x = Add()([tensor,x])\n",
        "    \n",
        "    x = ReLU()(x)\n",
        "    x = sep_bn(x, filters =256, kernel_size=3)\n",
        "    x = ReLU()(x)\n",
        "    x = sep_bn(x, filters =256, kernel_size=3)\n",
        "    x = MaxPool2D(pool_size=3, strides=2, padding = 'same')(x)\n",
        "    \n",
        "    tensor = conv_bn(tensor, filters=256, kernel_size = 1,strides=2)\n",
        "    x = Add()([tensor,x])\n",
        "    \n",
        "    x = ReLU()(x)\n",
        "    x = sep_bn(x, filters =728, kernel_size=3)\n",
        "    x = ReLU()(x)\n",
        "    x = sep_bn(x, filters =728, kernel_size=3)\n",
        "    x = MaxPool2D(pool_size=3, strides=2, padding = 'same')(x)\n",
        "    \n",
        "    tensor = conv_bn(tensor, filters=728, kernel_size = 1,strides=2)\n",
        "    x = Add()([tensor,x])\n",
        "    return x\n"
      ],
      "execution_count": null,
      "outputs": []
    },
    {
      "cell_type": "code",
      "metadata": {
        "id": "rTfRT4UKkb4y"
      },
      "source": [
        "# middle flow\n",
        "\n",
        "def middle_flow(tensor):\n",
        "    \n",
        "    for _ in range(8):\n",
        "        x = ReLU()(tensor)\n",
        "        x = sep_bn(x, filters = 728, kernel_size = 3)\n",
        "        x = ReLU()(x)\n",
        "        x = sep_bn(x, filters = 728, kernel_size = 3)\n",
        "        x = ReLU()(x)\n",
        "        x = sep_bn(x, filters = 728, kernel_size = 3)\n",
        "        x = ReLU()(x)\n",
        "        tensor = Add()([tensor,x])\n",
        "        \n",
        "    return tensor\n"
      ],
      "execution_count": null,
      "outputs": []
    },
    {
      "cell_type": "code",
      "metadata": {
        "id": "IZN1a_WZkdj1"
      },
      "source": [
        "# exit flow\n",
        "\n",
        "def exit_flow(tensor):\n",
        "    \n",
        "    x = ReLU()(tensor)\n",
        "    x = sep_bn(x, filters = 728,  kernel_size=3)\n",
        "    x = ReLU()(x)\n",
        "    x = sep_bn(x, filters = 1024,  kernel_size=3)\n",
        "    x = MaxPool2D(pool_size = 3, strides = 2, padding ='same')(x)\n",
        "    \n",
        "    tensor = conv_bn(tensor, filters =1024, kernel_size=1, strides =2)\n",
        "    x = Add()([tensor,x])\n",
        "    \n",
        "    x = sep_bn(x, filters = 1536,  kernel_size=3)\n",
        "    x = ReLU()(x)\n",
        "    x = sep_bn(x, filters = 2048,  kernel_size=3)\n",
        "    x = GlobalAvgPool2D()(x)\n",
        "    \n",
        "    x = Dense (units = 10, activation = 'softmax')(x)\n",
        "    \n",
        "    return x\n"
      ],
      "execution_count": null,
      "outputs": []
    },
    {
      "cell_type": "code",
      "metadata": {
        "id": "PnUC3SVskfoD"
      },
      "source": [
        "# model\n",
        "\n",
        "input = Input(shape = (28,28,1))\n",
        "x = entry_flow(input)\n",
        "x = middle_flow(x)\n",
        "output = exit_flow(x)\n",
        "\n",
        "model = Model (inputs=input, outputs=output)\n"
      ],
      "execution_count": null,
      "outputs": []
    },
    {
      "cell_type": "code",
      "metadata": {
        "id": "8bRKjGSYknrD"
      },
      "source": [
        "model.compile(optimizer='adam', loss=\"categorical_crossentropy\", metrics=['accuracy'])"
      ],
      "execution_count": null,
      "outputs": []
    },
    {
      "cell_type": "code",
      "metadata": {
        "id": "5EwwFSBHkq8D",
        "colab": {
          "base_uri": "https://localhost:8080/"
        },
        "outputId": "19ff6de0-7ac5-402e-8cba-26b70cdf6c4a"
      },
      "source": [
        "model.fit(train_image, train_label,  epochs=5, batch_size=128, validation_split=0.2, verbose=1, shuffle = True)"
      ],
      "execution_count": null,
      "outputs": [
        {
          "output_type": "stream",
          "name": "stdout",
          "text": [
            "Epoch 1/5\n",
            "375/375 [==============================] - 93s 150ms/step - loss: 0.1701 - accuracy: 0.9473 - val_loss: 2.3454 - val_accuracy: 0.1060\n",
            "Epoch 2/5\n",
            "375/375 [==============================] - 54s 145ms/step - loss: 0.0606 - accuracy: 0.9823 - val_loss: 0.2061 - val_accuracy: 0.9328\n",
            "Epoch 3/5\n",
            "375/375 [==============================] - 54s 145ms/step - loss: 0.0500 - accuracy: 0.9852 - val_loss: 0.3542 - val_accuracy: 0.9143\n",
            "Epoch 4/5\n",
            "375/375 [==============================] - 54s 145ms/step - loss: 0.0371 - accuracy: 0.9887 - val_loss: 0.0939 - val_accuracy: 0.9768\n",
            "Epoch 5/5\n",
            "375/375 [==============================] - 55s 145ms/step - loss: 0.0286 - accuracy: 0.9913 - val_loss: 0.1887 - val_accuracy: 0.9526\n"
          ]
        },
        {
          "output_type": "execute_result",
          "data": {
            "text/plain": [
              "<keras.callbacks.History at 0x7f92e7999490>"
            ]
          },
          "metadata": {},
          "execution_count": 15
        }
      ]
    },
    {
      "cell_type": "code",
      "metadata": {
        "colab": {
          "base_uri": "https://localhost:8080/"
        },
        "id": "e92A81DDsZcZ",
        "outputId": "c92358a6-196b-4be0-8f2d-86f6ea998d34"
      },
      "source": [
        "preds = model.evaluate(test_image, test_label)\n",
        "print (\"Loss = \" + str(preds[0]))\n",
        "print (\"Test Accuracy = \" + str(preds[1]))"
      ],
      "execution_count": null,
      "outputs": [
        {
          "output_type": "stream",
          "name": "stdout",
          "text": [
            "313/313 [==============================] - 7s 21ms/step - loss: 0.1720 - accuracy: 0.9550\n",
            "Loss = 0.17195983231067657\n",
            "Test Accuracy = 0.9549999833106995\n"
          ]
        }
      ]
    },
    {
      "cell_type": "code",
      "metadata": {
        "id": "RmJIQWw9vzIn"
      },
      "source": [
        "predicted_label = model.predict(test_image)"
      ],
      "execution_count": null,
      "outputs": []
    },
    {
      "cell_type": "code",
      "metadata": {
        "id": "qy9qqZkMv8cw"
      },
      "source": [
        "test_image = test_image.reshape(-1, 28, 28)"
      ],
      "execution_count": null,
      "outputs": []
    },
    {
      "cell_type": "code",
      "metadata": {
        "colab": {
          "base_uri": "https://localhost:8080/",
          "height": 354
        },
        "id": "pTJvLHWRvuEg",
        "outputId": "1494773a-1083-4775-f977-ac55d3e47a4c"
      },
      "source": [
        "plt.figure(figsize=(15,15))\n",
        "for i in range(10):\n",
        "    plt.subplot(5,5,i+1)\n",
        "    plt.xticks([])\n",
        "    plt.yticks([])\n",
        "    plt.grid(False)\n",
        "    plt.imshow(test_image[i], cmap=plt.cm.binary) #, cmap=plt.cm.binary\n",
        "    plt.xlabel('Predicted:' + str(np.argmax(predicted_label[i])) + '/True:' + str(np.argmax(test_label[i])))\n",
        "plt.show()"
      ],
      "execution_count": null,
      "outputs": [
        {
          "output_type": "display_data",
          "data": {
            "image/png": "[encoded data removed]",
            "text/plain": [
              "<Figure size 1080x1080 with 10 Axes>"
            ]
          },
          "metadata": {}
        }
      ]
    },
    {
      "cell_type": "markdown",
      "metadata": {
        "id": "WEC03BaI3uu1"
      },
      "source": [
        "Добавление шума"
      ]
    },
    {
      "cell_type": "code",
      "metadata": {
        "id": "trQ8fVoR3bRX"
      },
      "source": [
        "# Добавление равномерного шума\n",
        "def add_uniform_noise(signal, snr):\n",
        "    ''' \n",
        "    signal: np.ndarray\n",
        "    snr: float\n",
        "\n",
        "    returns -> np.ndarray\n",
        "    '''\n",
        "\n",
        "    mu, sigma = 3, 0.1\n",
        "    noise = np.random.uniform(mu, sigma, signal.shape)\n",
        "\n",
        "    # Generate the noise as you did\n",
        "    #noise = acoustics.generator.white(signal.size).reshape(*signal.shape)\n",
        "    # For the record I think np.random.random does exactly the same thing\n",
        "\n",
        "    # work out the current SNR\n",
        "    current_snr = np.mean(signal) / np.std(noise)\n",
        "\n",
        "    # scale the noise by the snr ratios (smaller noise <=> larger snr)\n",
        "    noise *= (current_snr / snr)\n",
        "\n",
        "    # return the new signal with noise\n",
        "    return signal + noise"
      ],
      "execution_count": null,
      "outputs": []
    },
    {
      "cell_type": "code",
      "metadata": {
        "id": "GYBodd3i3Y_j"
      },
      "source": [
        "# Добавление нормального шума\n",
        "def add_normal_noise(signal, snr):\n",
        "    ''' \n",
        "    signal: np.ndarray\n",
        "    snr: float\n",
        "\n",
        "    returns -> np.ndarray\n",
        "    '''\n",
        "\n",
        "    mu, sigma = 3, 0.1\n",
        "    noise = np.random.normal(mu, sigma, signal.shape)\n",
        "\n",
        "    # Generate the noise as you did\n",
        "    #noise = acoustics.generator.white(signal.size).reshape(*signal.shape)\n",
        "    # For the record I think np.random.random does exactly the same thing\n",
        "\n",
        "    # work out the current SNR\n",
        "    current_snr = np.mean(signal) / np.std(noise)\n",
        "\n",
        "    # scale the noise by the snr ratios (smaller noise <=> larger snr)\n",
        "    noise *= (current_snr / snr)\n",
        "\n",
        "    # return the new signal with noise\n",
        "    return signal + noise"
      ],
      "execution_count": null,
      "outputs": []
    },
    {
      "cell_type": "code",
      "metadata": {
        "id": "vAugDUJP4Eo0"
      },
      "source": [
        "# Количество изображений\n",
        "img_noise = 10000;"
      ],
      "execution_count": null,
      "outputs": []
    },
    {
      "cell_type": "markdown",
      "metadata": {
        "id": "mR-EOZ2y39bu"
      },
      "source": [
        "Равномерный шум, ОСШ = 5"
      ]
    },
    {
      "cell_type": "code",
      "metadata": {
        "id": "My_zdAza38N4"
      },
      "source": [
        "img_noise_uniform_5 = np.zeros((img_noise, 28, 28))\n",
        "for i in range(img_noise):\n",
        "    img_noise_uniform_5[i] = add_uniform_noise(test_image[i], 5)"
      ],
      "execution_count": null,
      "outputs": []
    },
    {
      "cell_type": "code",
      "metadata": {
        "id": "Q-bBsBsr47pw"
      },
      "source": [
        "label_predicted_noise_uniform_5 = model.predict(img_noise_uniform_5)"
      ],
      "execution_count": null,
      "outputs": []
    },
    {
      "cell_type": "code",
      "metadata": {
        "colab": {
          "base_uri": "https://localhost:8080/"
        },
        "id": "iHBvxF2h5WyN",
        "outputId": "70aeded5-8b71-47db-9cce-6b3768be5174"
      },
      "source": [
        "preds = model.evaluate(img_noise_uniform_5, test_label[0:img_noise])\n",
        "print (\"Loss = \" + str(preds[0]))\n",
        "print (\"Test Accuracy = \" + str(preds[1]))"
      ],
      "execution_count": null,
      "outputs": [
        {
          "output_type": "stream",
          "name": "stdout",
          "text": [
            "313/313 [==============================] - 7s 20ms/step - loss: 0.2443 - accuracy: 0.9429\n",
            "Loss = 0.24434135854244232\n",
            "Test Accuracy = 0.9429000020027161\n"
          ]
        }
      ]
    },
    {
      "cell_type": "code",
      "metadata": {
        "colab": {
          "base_uri": "https://localhost:8080/",
          "height": 354
        },
        "id": "Cw-9Xqsm47tj",
        "outputId": "862d0277-4a48-44d3-ab5f-ef28b6d44f72"
      },
      "source": [
        "plt.figure(figsize=(15,15))\n",
        "for i in range(10):\n",
        "    plt.subplot(5,5,i+1)\n",
        "    plt.xticks([])\n",
        "    plt.yticks([])\n",
        "    plt.grid(False)\n",
        "    plt.imshow(img_noise_uniform_5[i], cmap=plt.cm.binary) #, cmap=plt.cm.binary\n",
        "    plt.xlabel('Predicted:' + str(np.argmax(label_predicted_noise_uniform_5[i])) + '/True:' + str(np.argmax(test_label[i])))\n",
        "plt.show()"
      ],
      "execution_count": null,
      "outputs": [
        {
          "output_type": "display_data",
          "data": {
            "image/png": "[encoded data removed]",
            "text/plain": [
              "<Figure size 1080x1080 with 10 Axes>"
            ]
          },
          "metadata": {}
        }
      ]
    },
    {
      "cell_type": "markdown",
      "metadata": {
        "id": "p2bQ8iFN535I"
      },
      "source": [
        "Равномерный шум, ОСШ = 20"
      ]
    },
    {
      "cell_type": "code",
      "metadata": {
        "id": "v-KsCx8h5z6N"
      },
      "source": [
        "img_noise_uniform_20 = np.zeros((img_noise, 28, 28))\n",
        "for i in range(img_noise):\n",
        "    img_noise_uniform_20[i] = add_uniform_noise(test_image[i], 20)"
      ],
      "execution_count": null,
      "outputs": []
    },
    {
      "cell_type": "code",
      "metadata": {
        "id": "l9yk_a6R6LeK"
      },
      "source": [
        "label_predicted_noise_uniform_20 = model.predict(img_noise_uniform_20)"
      ],
      "execution_count": null,
      "outputs": []
    },
    {
      "cell_type": "code",
      "metadata": {
        "colab": {
          "base_uri": "https://localhost:8080/"
        },
        "id": "GcHHpMcB6OTh",
        "outputId": "cc9e70a2-ad78-4048-81c8-1d4971acdb86"
      },
      "source": [
        "preds = model.evaluate(img_noise_uniform_20, test_label[0:img_noise])\n",
        "print (\"Loss = \" + str(preds[0]))\n",
        "print (\"Test Accuracy = \" + str(preds[1]))"
      ],
      "execution_count": null,
      "outputs": [
        {
          "output_type": "stream",
          "name": "stdout",
          "text": [
            "313/313 [==============================] - 6s 20ms/step - loss: 0.1721 - accuracy: 0.9554\n",
            "Loss = 0.172132208943367\n",
            "Test Accuracy = 0.9553999900817871\n"
          ]
        }
      ]
    },
    {
      "cell_type": "code",
      "metadata": {
        "colab": {
          "base_uri": "https://localhost:8080/",
          "height": 354
        },
        "id": "BM8TNkX66Vx2",
        "outputId": "dcba350e-e04a-4b64-8c3c-9f1e91abadb5"
      },
      "source": [
        "plt.figure(figsize=(15,15))\n",
        "for i in range(10):\n",
        "    plt.subplot(5,5,i+1)\n",
        "    plt.xticks([])\n",
        "    plt.yticks([])\n",
        "    plt.grid(False)\n",
        "    plt.imshow(img_noise_uniform_20[i], cmap=plt.cm.binary) #, cmap=plt.cm.binary\n",
        "    plt.xlabel('Predicted:' + str(np.argmax(label_predicted_noise_uniform_20[i])) + '/True:' + str(np.argmax(test_label[i])))\n",
        "plt.show()"
      ],
      "execution_count": null,
      "outputs": [
        {
          "output_type": "display_data",
          "data": {
            "image/png": "[encoded data removed]",
            "text/plain": [
              "<Figure size 1080x1080 with 10 Axes>"
            ]
          },
          "metadata": {}
        }
      ]
    },
    {
      "cell_type": "markdown",
      "metadata": {
        "id": "JBE5Couw6Zkr"
      },
      "source": [
        "Нормальный шум, ОСШ = 5"
      ]
    },
    {
      "cell_type": "code",
      "metadata": {
        "id": "lFgRx1Rb6eJI"
      },
      "source": [
        "img_noise_normal_5 = np.zeros((img_noise, 28, 28))\n",
        "for i in range(img_noise):\n",
        "    img_noise_normal_5[i] = add_normal_noise(test_image[i], 5)"
      ],
      "execution_count": null,
      "outputs": []
    },
    {
      "cell_type": "code",
      "metadata": {
        "id": "tcOTCNxG6t8Z"
      },
      "source": [
        "label_predicted_noise_normal_5 = model.predict(img_noise_normal_5)"
      ],
      "execution_count": null,
      "outputs": []
    },
    {
      "cell_type": "code",
      "metadata": {
        "colab": {
          "base_uri": "https://localhost:8080/"
        },
        "id": "_3vrjKu960Kr",
        "outputId": "5c0783e4-4d6b-467d-c968-53c1e349447a"
      },
      "source": [
        "preds = model.evaluate(img_noise_normal_5, test_label[0:img_noise])\n",
        "print (\"Loss = \" + str(preds[0]))\n",
        "print (\"Test Accuracy = \" + str(preds[1]))"
      ],
      "execution_count": null,
      "outputs": [
        {
          "output_type": "stream",
          "name": "stdout",
          "text": [
            "313/313 [==============================] - 7s 21ms/step - loss: 4.7833 - accuracy: 0.2687\n",
            "Loss = 4.783339023590088\n",
            "Test Accuracy = 0.2687000036239624\n"
          ]
        }
      ]
    },
    {
      "cell_type": "code",
      "metadata": {
        "colab": {
          "base_uri": "https://localhost:8080/",
          "height": 354
        },
        "id": "TyFh_I7j65mX",
        "outputId": "cfa88c39-c8d8-486b-f2a8-4ed4dd8af54b"
      },
      "source": [
        "plt.figure(figsize=(15,15))\n",
        "for i in range(10):\n",
        "    plt.subplot(5,5,i+1)\n",
        "    plt.xticks([])\n",
        "    plt.yticks([])\n",
        "    plt.grid(False)\n",
        "    plt.imshow(img_noise_normal_5[i], cmap=plt.cm.binary) #, cmap=plt.cm.binary\n",
        "    plt.xlabel('Predicted:' + str(np.argmax(label_predicted_noise_normal_5[i])) + '/True:' + str(np.argmax(test_label[i])))\n",
        "plt.show()"
      ],
      "execution_count": null,
      "outputs": [
        {
          "output_type": "display_data",
          "data": {
            "image/png": "[encoded data removed]",
            "text/plain": [
              "<Figure size 1080x1080 with 10 Axes>"
            ]
          },
          "metadata": {}
        }
      ]
    },
    {
      "cell_type": "markdown",
      "metadata": {
        "id": "0PxJ1mKl7Ay_"
      },
      "source": [
        "Нормальный шум, ОСШ = 20"
      ]
    },
    {
      "cell_type": "code",
      "metadata": {
        "id": "eXEnnX7b7AFp"
      },
      "source": [
        "img_noise_normal_20 = np.zeros((img_noise, 28, 28))\n",
        "for i in range(img_noise):\n",
        "    img_noise_normal_20[i] = add_normal_noise(test_image[i], 20)"
      ],
      "execution_count": null,
      "outputs": []
    },
    {
      "cell_type": "code",
      "metadata": {
        "id": "YpS732Ar7R_z"
      },
      "source": [
        "label_predicted_noise_normal_20 = model.predict(img_noise_normal_20)"
      ],
      "execution_count": null,
      "outputs": []
    },
    {
      "cell_type": "code",
      "metadata": {
        "colab": {
          "base_uri": "https://localhost:8080/"
        },
        "id": "4fDQaCJh7YFX",
        "outputId": "9906c2ff-30ca-4cd9-c179-a21f72f2dbaa"
      },
      "source": [
        "preds = model.evaluate(img_noise_normal_20, test_label[0:img_noise])\n",
        "print (\"Loss = \" + str(preds[0]))\n",
        "print (\"Test Accuracy = \" + str(preds[1]))"
      ],
      "execution_count": null,
      "outputs": [
        {
          "output_type": "stream",
          "name": "stdout",
          "text": [
            "313/313 [==============================] - 6s 20ms/step - loss: 3.3757 - accuracy: 0.4339\n",
            "Loss = 3.37565541267395\n",
            "Test Accuracy = 0.43389999866485596\n"
          ]
        }
      ]
    },
    {
      "cell_type": "code",
      "metadata": {
        "colab": {
          "base_uri": "https://localhost:8080/",
          "height": 354
        },
        "id": "YEINSyGK7nP4",
        "outputId": "8c25e2b7-fa95-4ac1-db90-2c9e6db9bdf8"
      },
      "source": [
        "plt.figure(figsize=(15,15))\n",
        "for i in range(10):\n",
        "    plt.subplot(5,5,i+1)\n",
        "    plt.xticks([])\n",
        "    plt.yticks([])\n",
        "    plt.grid(False)\n",
        "    plt.imshow(img_noise_normal_20[i], cmap=plt.cm.binary) #, cmap=plt.cm.binary\n",
        "    plt.xlabel('Predicted:' + str(np.argmax(label_predicted_noise_normal_20[i])) + '/True:' + str(np.argmax(test_label[i])))\n",
        "plt.show()"
      ],
      "execution_count": null,
      "outputs": [
        {
          "output_type": "display_data",
          "data": {
            "image/png": "[encoded data removed]",
            "text/plain": [
              "<Figure size 1080x1080 with 10 Axes>"
            ]
          },
          "metadata": {}
        }
      ]
    },
    {
      "cell_type": "markdown",
      "metadata": {
        "id": "NmOneR2QBhyM"
      },
      "source": [
        "Вывод слоев"
      ]
    },
    {
      "cell_type": "code",
      "metadata": {
        "id": "7YpMYIuO8t_8"
      },
      "source": [
        "for layer in model.layers:\n",
        "    layer.trainable = False"
      ],
      "execution_count": null,
      "outputs": []
    },
    {
      "cell_type": "code",
      "metadata": {
        "colab": {
          "base_uri": "https://localhost:8080/"
        },
        "id": "NF6vF9Xf8v22",
        "outputId": "691fc559-cb0f-4ee9-bc8c-fccbc670772e"
      },
      "source": [
        "for layer in model.layers:\n",
        "    print(layer, layer.trainable)"
      ],
      "execution_count": null,
      "outputs": [
        {
          "output_type": "stream",
          "name": "stdout",
          "text": [
            "<keras.engine.input_layer.InputLayer object at 0x7f92e73f23d0> False\n",
            "<keras.layers.convolutional.Conv2D object at 0x7f92e78c8f10> False\n",
            "<keras.layers.normalization.batch_normalization.BatchNormalization object at 0x7f92e79a8790> False\n",
            "<keras.layers.advanced_activations.ReLU object at 0x7f92e79a8f50> False\n",
            "<keras.layers.convolutional.Conv2D object at 0x7f92e79a8c90> False\n",
            "<keras.layers.normalization.batch_normalization.BatchNormalization object at 0x7f92e743e510> False\n",
            "<keras.layers.advanced_activations.ReLU object at 0x7f92e73f2910> False\n",
            "<keras.layers.convolutional.SeparableConv2D object at 0x7f92e78ed8d0> False\n",
            "<keras.layers.normalization.batch_normalization.BatchNormalization object at 0x7f92e7ab0090> False\n",
            "<keras.layers.advanced_activations.ReLU object at 0x7f92e7b4e390> False\n",
            "<keras.layers.convolutional.SeparableConv2D object at 0x7f92e7b4edd0> False\n",
            "<keras.layers.convolutional.Conv2D object at 0x7f92e7b48ad0> False\n",
            "<keras.layers.normalization.batch_normalization.BatchNormalization object at 0x7f92e74394d0> False\n",
            "<keras.layers.normalization.batch_normalization.BatchNormalization object at 0x7f92e79f9d90> False\n",
            "<keras.layers.pooling.MaxPooling2D object at 0x7f92e78da510> False\n",
            "<keras.layers.merge.Add object at 0x7f92e7a29590> False\n",
            "<keras.layers.advanced_activations.ReLU object at 0x7f92e79cfd50> False\n",
            "<keras.layers.convolutional.SeparableConv2D object at 0x7f92e79be8d0> False\n",
            "<keras.layers.normalization.batch_normalization.BatchNormalization object at 0x7f92e79c6fd0> False\n",
            "<keras.layers.advanced_activations.ReLU object at 0x7f92e79dc7d0> False\n",
            "<keras.layers.convolutional.SeparableConv2D object at 0x7f92e79cd550> False\n",
            "<keras.layers.convolutional.Conv2D object at 0x7f92e79d27d0> False\n",
            "<keras.layers.normalization.batch_normalization.BatchNormalization object at 0x7f92e79c63d0> False\n",
            "<keras.layers.normalization.batch_normalization.BatchNormalization object at 0x7f92e79d2ad0> False\n",
            "<keras.layers.pooling.MaxPooling2D object at 0x7f92e79c8cd0> False\n",
            "<keras.layers.merge.Add object at 0x7f92e794b150> False\n",
            "<keras.layers.advanced_activations.ReLU object at 0x7f92e79d2f50> False\n",
            "<keras.layers.convolutional.SeparableConv2D object at 0x7f92e794b590> False\n",
            "<keras.layers.normalization.batch_normalization.BatchNormalization object at 0x7f92e79415d0> False\n",
            "<keras.layers.advanced_activations.ReLU object at 0x7f92e7967bd0> False\n",
            "<keras.layers.convolutional.SeparableConv2D object at 0x7f92e7967c90> False\n",
            "<keras.layers.convolutional.Conv2D object at 0x7f92e79594d0> False\n",
            "<keras.layers.normalization.batch_normalization.BatchNormalization object at 0x7f92e7959cd0> False\n",
            "<keras.layers.normalization.batch_normalization.BatchNormalization object at 0x7f92e7974910> False\n",
            "<keras.layers.pooling.MaxPooling2D object at 0x7f92e7947fd0> False\n",
            "<keras.layers.merge.Add object at 0x7f92e79e2c50> False\n",
            "<keras.layers.advanced_activations.ReLU object at 0x7f92e7a2ed90> False\n",
            "<keras.layers.convolutional.SeparableConv2D object at 0x7f92e79bed90> False\n",
            "<keras.layers.normalization.batch_normalization.BatchNormalization object at 0x7f92e7b48510> False\n",
            "<keras.layers.advanced_activations.ReLU object at 0x7f92e7b3ef10> False\n",
            "<keras.layers.convolutional.SeparableConv2D object at 0x7f92e7ab0850> False\n",
            "<keras.layers.normalization.batch_normalization.BatchNormalization object at 0x7f92e744fcd0> False\n",
            "<keras.layers.advanced_activations.ReLU object at 0x7f92e793ae90> False\n",
            "<keras.layers.convolutional.SeparableConv2D object at 0x7f92e7ab6250> False\n",
            "<keras.layers.normalization.batch_normalization.BatchNormalization object at 0x7f92e79be250> False\n",
            "<keras.layers.advanced_activations.ReLU object at 0x7f92e7ab1c90> False\n",
            "<keras.layers.merge.Add object at 0x7f92e7ab18d0> False\n",
            "<keras.layers.advanced_activations.ReLU object at 0x7f92e796e310> False\n",
            "<keras.layers.convolutional.SeparableConv2D object at 0x7f92e7a82150> False\n",
            "<keras.layers.normalization.batch_normalization.BatchNormalization object at 0x7f92e7a9d950> False\n",
            "<keras.layers.advanced_activations.ReLU object at 0x7f92e7ab2e10> False\n",
            "<keras.layers.convolutional.SeparableConv2D object at 0x7f92e7a8b910> False\n",
            "<keras.layers.normalization.batch_normalization.BatchNormalization object at 0x7f92e7a82b90> False\n",
            "<keras.layers.advanced_activations.ReLU object at 0x7f92e7a8be90> False\n",
            "<keras.layers.convolutional.SeparableConv2D object at 0x7f92e7a9b310> False\n",
            "<keras.layers.normalization.batch_normalization.BatchNormalization object at 0x7f92e7a7ccd0> False\n",
            "<keras.layers.advanced_activations.ReLU object at 0x7f92e7a8c150> False\n",
            "<keras.layers.merge.Add object at 0x7f92e7ab40d0> False\n",
            "<keras.layers.advanced_activations.ReLU object at 0x7f92e7981dd0> False\n",
            "<keras.layers.convolutional.SeparableConv2D object at 0x7f92e79a1750> False\n",
            "<keras.layers.normalization.batch_normalization.BatchNormalization object at 0x7f92e79ae050> False\n",
            "<keras.layers.advanced_activations.ReLU object at 0x7f92e7991ed0> False\n",
            "<keras.layers.convolutional.SeparableConv2D object at 0x7f92e7999190> False\n",
            "<keras.layers.normalization.batch_normalization.BatchNormalization object at 0x7f92e7a7c7d0> False\n",
            "<keras.layers.advanced_activations.ReLU object at 0x7f92e7992f90> False\n",
            "<keras.layers.convolutional.SeparableConv2D object at 0x7f92e79a0e90> False\n",
            "<keras.layers.normalization.batch_normalization.BatchNormalization object at 0x7f92e79a0390> False\n",
            "<keras.layers.advanced_activations.ReLU object at 0x7f92e7985a10> False\n",
            "<keras.layers.merge.Add object at 0x7f92e799e890> False\n",
            "<keras.layers.advanced_activations.ReLU object at 0x7f92e7a46d50> False\n",
            "<keras.layers.convolutional.SeparableConv2D object at 0x7f92e7b4e210> False\n",
            "<keras.layers.normalization.batch_normalization.BatchNormalization object at 0x7f92e7991790> False\n",
            "<keras.layers.advanced_activations.ReLU object at 0x7f92e7a53390> False\n",
            "<keras.layers.convolutional.SeparableConv2D object at 0x7f92e7a53550> False\n",
            "<keras.layers.normalization.batch_normalization.BatchNormalization object at 0x7f92e7986350> False\n",
            "<keras.layers.advanced_activations.ReLU object at 0x7f92e7a7c150> False\n",
            "<keras.layers.convolutional.SeparableConv2D object at 0x7f92e7a49390> False\n",
            "<keras.layers.normalization.batch_normalization.BatchNormalization object at 0x7f92e7a87810> False\n",
            "<keras.layers.advanced_activations.ReLU object at 0x7f92e7fbb850> False\n",
            "<keras.layers.merge.Add object at 0x7f92e79859d0> False\n",
            "<keras.layers.advanced_activations.ReLU object at 0x7f92e7a29c90> False\n",
            "<keras.layers.convolutional.SeparableConv2D object at 0x7f92e79d2390> False\n",
            "<keras.layers.normalization.batch_normalization.BatchNormalization object at 0x7f92e7a606d0> False\n",
            "<keras.layers.advanced_activations.ReLU object at 0x7f92e7a71f50> False\n",
            "<keras.layers.convolutional.SeparableConv2D object at 0x7f92e7a6d8d0> False\n",
            "<keras.layers.normalization.batch_normalization.BatchNormalization object at 0x7f92e7a3dbd0> False\n",
            "<keras.layers.advanced_activations.ReLU object at 0x7f92e7a64510> False\n",
            "<keras.layers.convolutional.SeparableConv2D object at 0x7f92e7a82690> False\n",
            "<keras.layers.normalization.batch_normalization.BatchNormalization object at 0x7f92e7a60790> False\n",
            "<keras.layers.advanced_activations.ReLU object at 0x7f92e7a52e50> False\n",
            "<keras.layers.merge.Add object at 0x7f92e7a6d810> False\n",
            "<keras.layers.advanced_activations.ReLU object at 0x7f92e036d8d0> False\n",
            "<keras.layers.convolutional.SeparableConv2D object at 0x7f92e0376e50> False\n",
            "<keras.layers.normalization.batch_normalization.BatchNormalization object at 0x7f92e0370510> False\n",
            "<keras.layers.advanced_activations.ReLU object at 0x7f92e036d9d0> False\n",
            "<keras.layers.convolutional.SeparableConv2D object at 0x7f92e0386090> False\n",
            "<keras.layers.normalization.batch_normalization.BatchNormalization object at 0x7f92e0381cd0> False\n",
            "<keras.layers.advanced_activations.ReLU object at 0x7f92e038cc90> False\n",
            "<keras.layers.convolutional.SeparableConv2D object at 0x7f92e0392550> False\n",
            "<keras.layers.normalization.batch_normalization.BatchNormalization object at 0x7f92e0392610> False\n",
            "<keras.layers.advanced_activations.ReLU object at 0x7f92e0381190> False\n",
            "<keras.layers.merge.Add object at 0x7f92e039ad10> False\n",
            "<keras.layers.advanced_activations.ReLU object at 0x7f92e03a3f50> False\n",
            "<keras.layers.convolutional.SeparableConv2D object at 0x7f92e039cb50> False\n",
            "<keras.layers.normalization.batch_normalization.BatchNormalization object at 0x7f92e037d7d0> False\n",
            "<keras.layers.advanced_activations.ReLU object at 0x7f92e0332310> False\n",
            "<keras.layers.convolutional.SeparableConv2D object at 0x7f92e0332090> False\n",
            "<keras.layers.normalization.batch_normalization.BatchNormalization object at 0x7f92e0380250> False\n",
            "<keras.layers.advanced_activations.ReLU object at 0x7f92e03443d0> False\n",
            "<keras.layers.convolutional.SeparableConv2D object at 0x7f92e0344d90> False\n",
            "<keras.layers.normalization.batch_normalization.BatchNormalization object at 0x7f92e0349e10> False\n",
            "<keras.layers.advanced_activations.ReLU object at 0x7f92e035a210> False\n",
            "<keras.layers.merge.Add object at 0x7f92e0353f10> False\n",
            "<keras.layers.advanced_activations.ReLU object at 0x7f92e03418d0> False\n",
            "<keras.layers.convolutional.SeparableConv2D object at 0x7f92e032ea90> False\n",
            "<keras.layers.normalization.batch_normalization.BatchNormalization object at 0x7f92e039c890> False\n",
            "<keras.layers.advanced_activations.ReLU object at 0x7f92e7a52a90> False\n",
            "<keras.layers.convolutional.SeparableConv2D object at 0x7f92e032e0d0> False\n",
            "<keras.layers.normalization.batch_normalization.BatchNormalization object at 0x7f92e79ddad0> False\n",
            "<keras.layers.advanced_activations.ReLU object at 0x7f92e7a82410> False\n",
            "<keras.layers.convolutional.SeparableConv2D object at 0x7f92e7a6d850> False\n",
            "<keras.layers.normalization.batch_normalization.BatchNormalization object at 0x7f92e7a7b750> False\n",
            "<keras.layers.advanced_activations.ReLU object at 0x7f92e799edd0> False\n",
            "<keras.layers.merge.Add object at 0x7f92e7a497d0> False\n",
            "<keras.layers.advanced_activations.ReLU object at 0x7f92e79c0d90> False\n",
            "<keras.layers.convolutional.SeparableConv2D object at 0x7f92e02e9b10> False\n",
            "<keras.layers.normalization.batch_normalization.BatchNormalization object at 0x7f92e02e9690> False\n",
            "<keras.layers.advanced_activations.ReLU object at 0x7f92e7973d90> False\n",
            "<keras.layers.convolutional.SeparableConv2D object at 0x7f92e02f23d0> False\n",
            "<keras.layers.convolutional.Conv2D object at 0x7f92e02fdb50> False\n",
            "<keras.layers.normalization.batch_normalization.BatchNormalization object at 0x7f92e02f2f50> False\n",
            "<keras.layers.normalization.batch_normalization.BatchNormalization object at 0x7f92e02fd990> False\n",
            "<keras.layers.pooling.MaxPooling2D object at 0x7f92e02eeb10> False\n",
            "<keras.layers.merge.Add object at 0x7f92e0300f90> False\n",
            "<keras.layers.convolutional.SeparableConv2D object at 0x7f92e0366690> False\n",
            "<keras.layers.normalization.batch_normalization.BatchNormalization object at 0x7f92e031b310> False\n",
            "<keras.layers.advanced_activations.ReLU object at 0x7f92e03105d0> False\n",
            "<keras.layers.convolutional.SeparableConv2D object at 0x7f92e0300c90> False\n",
            "<keras.layers.normalization.batch_normalization.BatchNormalization object at 0x7f92e02ad250> False\n",
            "<keras.layers.pooling.GlobalAveragePooling2D object at 0x7f92e0322c50> False\n",
            "<keras.layers.core.dense.Dense object at 0x7f92e030dd50> False\n"
          ]
        }
      ]
    }
  ]
}